{
 "cells": [
  {
   "cell_type": "code",
   "execution_count": 5,
   "id": "ab20a516",
   "metadata": {},
   "outputs": [],
   "source": [
    "import tensorflow as tf\n",
    "from tensorflow.keras.layers import Input, Lambda\n",
    "from tensorflow.keras import layers\n",
    "from tensorflow.keras.models import Model\n"
   ]
  },
  {
   "cell_type": "code",
   "execution_count": 28,
   "id": "47427493",
   "metadata": {},
   "outputs": [],
   "source": [
    "input_layer = Input(shape=(1,))"
   ]
  },
  {
   "cell_type": "code",
   "execution_count": 29,
   "id": "23e85bc8",
   "metadata": {},
   "outputs": [],
   "source": [
    "lambda_layer = layers.Lambda(lambda x : x*10)(input_layer)"
   ]
  },
  {
   "cell_type": "code",
   "execution_count": 31,
   "id": "a4e5bf02",
   "metadata": {},
   "outputs": [],
   "source": [
    "model =Model(\n",
    "                    inputs=input_layer , \n",
    "                    outputs=lambda_layer\n",
    "    \n",
    "                )"
   ]
  },
  {
   "cell_type": "code",
   "execution_count": 44,
   "id": "1c1e988c",
   "metadata": {},
   "outputs": [],
   "source": [
    "model.compile()\n"
   ]
  },
  {
   "cell_type": "code",
   "execution_count": 46,
   "id": "0a24d46a",
   "metadata": {},
   "outputs": [
    {
     "name": "stdout",
     "output_type": "stream",
     "text": [
      "1/1 [==============================] - 0s 34ms/step\n"
     ]
    },
    {
     "data": {
      "text/plain": [
       "array([[120.]], dtype=float32)"
      ]
     },
     "execution_count": 46,
     "metadata": {},
     "output_type": "execute_result"
    }
   ],
   "source": [
    "model.predict([12])"
   ]
  },
  {
   "cell_type": "markdown",
   "id": "90b3b56b",
   "metadata": {},
   "source": []
  }
 ],
 "metadata": {
  "kernelspec": {
   "display_name": "Python 3 (ipykernel)",
   "language": "python",
   "name": "python3"
  },
  "language_info": {
   "codemirror_mode": {
    "name": "ipython",
    "version": 3
   },
   "file_extension": ".py",
   "mimetype": "text/x-python",
   "name": "python",
   "nbconvert_exporter": "python",
   "pygments_lexer": "ipython3",
   "version": "3.9.13"
  }
 },
 "nbformat": 4,
 "nbformat_minor": 5
}
