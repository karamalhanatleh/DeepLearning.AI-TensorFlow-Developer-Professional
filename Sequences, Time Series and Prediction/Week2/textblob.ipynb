{
 "cells": [
  {
   "cell_type": "code",
   "execution_count": null,
   "id": "397a537f",
   "metadata": {},
   "outputs": [],
   "source": []
  },
  {
   "cell_type": "code",
   "execution_count": 9,
   "id": "62f5ca60",
   "metadata": {},
   "outputs": [
    {
     "name": "stdout",
     "output_type": "stream",
     "text": [
      "Text:  bad boy.\n",
      "Sentiment:  Negative\n",
      "Sentiment Score:  -0.6999999999999998\n"
     ]
    }
   ],
   "source": [
    "from textblob import TextBlob\n",
    "\n",
    "# Sample text for sentiment analysis\n",
    "text = \"bad boy.\"\n",
    "\n",
    "# Create a TextBlob object\n",
    "blob = TextBlob(text)\n",
    "\n",
    "# Perform sentiment analysis\n",
    "sentiment_score = blob.sentiment.polarity\n",
    "\n",
    "# Interpret the sentiment score\n",
    "if sentiment_score > 0:\n",
    "    sentiment = \"Positive\"\n",
    "elif sentiment_score < 0:\n",
    "    sentiment = \"Negative\"\n",
    "else:\n",
    "    sentiment = \"Neutral\"\n",
    "\n",
    "# Print the results\n",
    "print(\"Text: \", text)\n",
    "print(\"Sentiment: \", sentiment)\n",
    "print(\"Sentiment Score: \", sentiment_score)\n"
   ]
  },
  {
   "cell_type": "code",
   "execution_count": null,
   "id": "d1e679fe",
   "metadata": {},
   "outputs": [],
   "source": []
  }
 ],
 "metadata": {
  "kernelspec": {
   "display_name": "Python 3 (ipykernel)",
   "language": "python",
   "name": "python3"
  },
  "language_info": {
   "codemirror_mode": {
    "name": "ipython",
    "version": 3
   },
   "file_extension": ".py",
   "mimetype": "text/x-python",
   "name": "python",
   "nbconvert_exporter": "python",
   "pygments_lexer": "ipython3",
   "version": "3.9.13"
  }
 },
 "nbformat": 4,
 "nbformat_minor": 5
}
