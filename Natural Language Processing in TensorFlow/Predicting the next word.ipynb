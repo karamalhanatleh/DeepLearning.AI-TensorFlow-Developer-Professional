{
 "cells": [
  {
   "cell_type": "markdown",
   "id": "b035839b",
   "metadata": {},
   "source": [
    "# Predicting the next word"
   ]
  },
  {
   "cell_type": "code",
   "execution_count": 4,
   "id": "ecae5218",
   "metadata": {},
   "outputs": [],
   "source": [
    "#import paskages \n",
    "import numpy as np\n",
    "import matplotlib.pyplot as plt\n",
    "import tensorflow as tf\n",
    "\n",
    "from tensorflow.keras.preprocessing.text import Tokenizer\n",
    "from tensorflow.keras.preprocessing.sequence import pad_sequences"
   ]
  },
  {
   "cell_type": "code",
   "execution_count": null,
   "id": "4dc2dd4f",
   "metadata": {},
   "outputs": [],
   "source": []
  },
  {
   "cell_type": "code",
   "execution_count": 11,
   "id": "1a8d444b",
   "metadata": {},
   "outputs": [
    {
     "name": "stdout",
     "output_type": "stream",
     "text": [
      "2159\n"
     ]
    }
   ],
   "source": [
    "#Load data\n",
    "file_path ='data/sonnets.txt'\n",
    "\n",
    "with open(file_path) as f:\n",
    "    data= f.read()\n",
    "\n",
    "#convert text to lower as return as a list\n",
    "corpus= data.lower().split(\"\\n\")\n",
    "\n",
    "print(len(corpus))"
   ]
  },
  {
   "cell_type": "code",
   "execution_count": 14,
   "id": "d7fb41bf",
   "metadata": {},
   "outputs": [
    {
     "name": "stdout",
     "output_type": "stream",
     "text": [
      "from fairest creatures we desire increase,\n",
      "that thereby beauty's rose might never die,\n",
      "but as the riper should by time decease,\n",
      "his tender heir might bear his memory:\n",
      "but thou, contracted to thine own bright eyes,\n"
     ]
    }
   ],
   "source": [
    "for i in  range(5):\n",
    "    print(corpus[i])"
   ]
  },
  {
   "cell_type": "code",
   "execution_count": null,
   "id": "58319695",
   "metadata": {},
   "outputs": [],
   "source": []
  },
  {
   "cell_type": "markdown",
   "id": "1a2c83e2",
   "metadata": {},
   "source": [
    "#### Tokenizer Text"
   ]
  },
  {
   "cell_type": "code",
   "execution_count": 28,
   "id": "c418d2e2",
   "metadata": {},
   "outputs": [
    {
     "name": "stdout",
     "output_type": "stream",
     "text": [
      "Total words is a 3211\n"
     ]
    }
   ],
   "source": [
    "tokenizer = Tokenizer()\n",
    "\n",
    "tokenizer.fit_on_texts(corpus)\n",
    "total_words=len(tokenizer.word_index)+1\n",
    "print(f\"Total words is a {total_words}\")"
   ]
  },
  {
   "cell_type": "code",
   "execution_count": null,
   "id": "004e7ba7",
   "metadata": {},
   "outputs": [],
   "source": []
  },
  {
   "cell_type": "code",
   "execution_count": 29,
   "id": "3240f5b4",
   "metadata": {},
   "outputs": [
    {
     "data": {
      "text/plain": [
       "'from fairest creatures we desire increase,'"
      ]
     },
     "execution_count": 29,
     "metadata": {},
     "output_type": "execute_result"
    }
   ],
   "source": [
    "corpus[0]"
   ]
  },
  {
   "cell_type": "code",
   "execution_count": null,
   "id": "0b6b7ce1",
   "metadata": {},
   "outputs": [],
   "source": []
  },
  {
   "cell_type": "markdown",
   "id": "27b0c7ad",
   "metadata": {},
   "source": [
    "If you pass this text directly into the texts_to_sequences method you will get an unexpected result:"
   ]
  },
  {
   "cell_type": "code",
   "execution_count": 30,
   "id": "648ef141",
   "metadata": {
    "collapsed": true
   },
   "outputs": [
    {
     "data": {
      "text/plain": [
       "[[],\n",
       " [],\n",
       " [58],\n",
       " [],\n",
       " [],\n",
       " [],\n",
       " [17],\n",
       " [6],\n",
       " [],\n",
       " [],\n",
       " [],\n",
       " [],\n",
       " [],\n",
       " [],\n",
       " [],\n",
       " [],\n",
       " [17],\n",
       " [],\n",
       " [],\n",
       " [],\n",
       " [],\n",
       " [],\n",
       " [],\n",
       " [],\n",
       " [],\n",
       " [],\n",
       " [],\n",
       " [],\n",
       " [],\n",
       " [6],\n",
       " [],\n",
       " [],\n",
       " [],\n",
       " [6],\n",
       " [],\n",
       " [],\n",
       " [],\n",
       " [],\n",
       " [17],\n",
       " [],\n",
       " [],\n",
       " []]"
      ]
     },
     "execution_count": 30,
     "metadata": {},
     "output_type": "execute_result"
    }
   ],
   "source": [
    "tokenizer.texts_to_sequences(corpus[0])"
   ]
  },
  {
   "cell_type": "code",
   "execution_count": null,
   "id": "576767d5",
   "metadata": {},
   "outputs": [],
   "source": []
  },
  {
   "cell_type": "markdown",
   "id": "9bb83990",
   "metadata": {},
   "source": [
    "This happened because texts_to_sequences expects a list and you are providing a string. However a string is still and iterable in Python so you will get the word index of every character in the string."
   ]
  },
  {
   "cell_type": "code",
   "execution_count": 31,
   "id": "9ddb15fc",
   "metadata": {},
   "outputs": [
    {
     "data": {
      "text/plain": [
       "[[34, 417, 877, 166, 213, 517]]"
      ]
     },
     "execution_count": 31,
     "metadata": {},
     "output_type": "execute_result"
    }
   ],
   "source": [
    "tokenizer.texts_to_sequences([corpus[0]])"
   ]
  },
  {
   "cell_type": "code",
   "execution_count": 32,
   "id": "3b187329",
   "metadata": {},
   "outputs": [
    {
     "data": {
      "text/plain": [
       "[34, 417, 877, 166, 213, 517]"
      ]
     },
     "execution_count": 32,
     "metadata": {},
     "output_type": "execute_result"
    }
   ],
   "source": [
    "tokenizer.texts_to_sequences([corpus[0]])[0]"
   ]
  },
  {
   "cell_type": "code",
   "execution_count": null,
   "id": "e0d20e81",
   "metadata": {},
   "outputs": [],
   "source": []
  },
  {
   "cell_type": "markdown",
   "id": "2983f69c",
   "metadata": {},
   "source": [
    "This function receives the fitted tokenizer and the corpus (which is a list of strings) and should return a list containing the n_gram sequences for each line in the corpus:"
   ]
  },
  {
   "cell_type": "code",
   "execution_count": 35,
   "id": "1d4847e8",
   "metadata": {},
   "outputs": [],
   "source": [
    "def n_gram_seqs(corpus , tokenizer):\n",
    "    \n",
    "    input_sequences= []\n",
    "    \n",
    "    for line in corpus:\n",
    "        token_list = tokenizer.texts_to_sequences([line])[0]\n",
    "        \n",
    "        for i in range(1, len(token_list)):\n",
    "            input_sequences.append(token_list[:i+1])\n",
    "            \n",
    "    return input_sequences\n",
    "    "
   ]
  },
  {
   "cell_type": "code",
   "execution_count": null,
   "id": "9e57594f",
   "metadata": {},
   "outputs": [],
   "source": []
  },
  {
   "cell_type": "code",
   "execution_count": 37,
   "id": "d080ac27",
   "metadata": {},
   "outputs": [
    {
     "data": {
      "text/plain": [
       "[[34, 417],\n",
       " [34, 417, 877],\n",
       " [34, 417, 877, 166],\n",
       " [34, 417, 877, 166, 213],\n",
       " [34, 417, 877, 166, 213, 517]]"
      ]
     },
     "execution_count": 37,
     "metadata": {},
     "output_type": "execute_result"
    }
   ],
   "source": [
    "first_example_sequence = n_gram_seqs([corpus[0]] , tokenizer)\n",
    "\n",
    "first_example_sequence"
   ]
  },
  {
   "cell_type": "code",
   "execution_count": null,
   "id": "eab5467e",
   "metadata": {},
   "outputs": [],
   "source": []
  },
  {
   "cell_type": "code",
   "execution_count": 38,
   "id": "d7349d31",
   "metadata": {},
   "outputs": [
    {
     "data": {
      "text/plain": [
       "[[8, 878],\n",
       " [8, 878, 134],\n",
       " [8, 878, 134, 351],\n",
       " [8, 878, 134, 351, 102],\n",
       " [8, 878, 134, 351, 102, 156],\n",
       " [8, 878, 134, 351, 102, 156, 199]]"
      ]
     },
     "execution_count": 38,
     "metadata": {},
     "output_type": "execute_result"
    }
   ],
   "source": [
    "second_examples_sequence = n_gram_seqs([corpus[1]] , tokenizer)\n",
    "second_examples_sequence\n"
   ]
  },
  {
   "cell_type": "code",
   "execution_count": null,
   "id": "c97bbd42",
   "metadata": {},
   "outputs": [],
   "source": []
  },
  {
   "cell_type": "markdown",
   "id": "a0be9eb4",
   "metadata": {},
   "source": [
    "Apply the n_gram_seqs transformation to the whole corpus and save the maximum sequence length to use it later:"
   ]
  },
  {
   "cell_type": "code",
   "execution_count": 39,
   "id": "0d82f289",
   "metadata": {},
   "outputs": [
    {
     "name": "stdout",
     "output_type": "stream",
     "text": [
      "11\n"
     ]
    }
   ],
   "source": [
    "input_sequences = n_gram_seqs(corpus , tokenizer)\n",
    "\n",
    "max_sequence_len = max([len(x) for x in input_sequences])\n",
    "\n",
    "print(max_sequence_len)"
   ]
  },
  {
   "cell_type": "code",
   "execution_count": 40,
   "id": "b73625b8",
   "metadata": {},
   "outputs": [
    {
     "data": {
      "text/plain": [
       "15462"
      ]
     },
     "execution_count": 40,
     "metadata": {},
     "output_type": "execute_result"
    }
   ],
   "source": [
    "len(input_sequences)"
   ]
  },
  {
   "cell_type": "markdown",
   "id": "3dc3de06",
   "metadata": {},
   "source": [
    " "
   ]
  },
  {
   "cell_type": "markdown",
   "id": "84a97c7f",
   "metadata": {},
   "source": [
    " "
   ]
  },
  {
   "cell_type": "markdown",
   "id": "a0c903ea",
   "metadata": {},
   "source": [
    "### Add padding to the sequences"
   ]
  },
  {
   "cell_type": "code",
   "execution_count": 42,
   "id": "d3145356",
   "metadata": {},
   "outputs": [],
   "source": [
    "def pad_seqs(input_sequences , maxlen):\n",
    "    padded_sequences = pad_sequences(input_sequences , maxlen=maxlen ,padding='pre')\n",
    "    \n",
    "    return padded_sequences"
   ]
  },
  {
   "cell_type": "code",
   "execution_count": null,
   "id": "cbbcf363",
   "metadata": {},
   "outputs": [],
   "source": []
  },
  {
   "cell_type": "code",
   "execution_count": 44,
   "id": "1cf665a4",
   "metadata": {},
   "outputs": [
    {
     "data": {
      "text/plain": [
       "array([[  0,   0,   0,   0,  34, 417],\n",
       "       [  0,   0,   0,  34, 417, 877],\n",
       "       [  0,   0,  34, 417, 877, 166],\n",
       "       [  0,  34, 417, 877, 166, 213],\n",
       "       [ 34, 417, 877, 166, 213, 517]])"
      ]
     },
     "execution_count": 44,
     "metadata": {},
     "output_type": "execute_result"
    }
   ],
   "source": [
    "first_padded_seq = pad_seqs(first_example_sequence , max([len(x) for x in first_example_sequence]))\n",
    "first_padded_seq"
   ]
  },
  {
   "cell_type": "code",
   "execution_count": null,
   "id": "569be5fb",
   "metadata": {},
   "outputs": [],
   "source": []
  },
  {
   "cell_type": "code",
   "execution_count": 46,
   "id": "410dd34c",
   "metadata": {},
   "outputs": [
    {
     "data": {
      "text/plain": [
       "(15462, 11)"
      ]
     },
     "execution_count": 46,
     "metadata": {},
     "output_type": "execute_result"
    }
   ],
   "source": [
    "# Pad the whole corpus\n",
    "input_sequences=pad_seqs(input_sequences , max_sequence_len)\n",
    "input_sequences.shape"
   ]
  },
  {
   "cell_type": "code",
   "execution_count": null,
   "id": "e3d6907a",
   "metadata": {},
   "outputs": [],
   "source": []
  },
  {
   "cell_type": "markdown",
   "id": "244bd368",
   "metadata": {},
   "source": [
    "#### Split the data into features and labels"
   ]
  },
  {
   "cell_type": "code",
   "execution_count": 47,
   "id": "3443c456",
   "metadata": {},
   "outputs": [],
   "source": [
    "def features_and_labels(input_sequences , total_words):\n",
    "    \n",
    "    features= input_sequences[:,:-1]\n",
    "    labels=input_sequences[:,-1]\n",
    "    one_hot_labels= tf.keras.utils.to_categorical(labels  , num_classes=total_words)\n",
    "    \n",
    "    return features , one_hot_labels"
   ]
  },
  {
   "cell_type": "code",
   "execution_count": null,
   "id": "a3ccf404",
   "metadata": {},
   "outputs": [],
   "source": []
  },
  {
   "cell_type": "code",
   "execution_count": 48,
   "id": "9a37d30d",
   "metadata": {},
   "outputs": [
    {
     "data": {
      "text/plain": [
       "array([[  0,   0,   0,   0,  34],\n",
       "       [  0,   0,   0,  34, 417],\n",
       "       [  0,   0,  34, 417, 877],\n",
       "       [  0,  34, 417, 877, 166],\n",
       "       [ 34, 417, 877, 166, 213]])"
      ]
     },
     "execution_count": 48,
     "metadata": {},
     "output_type": "execute_result"
    }
   ],
   "source": [
    "first_features , first_labels = features_and_labels(first_padded_seq , total_words)\n",
    "\n",
    "first_features"
   ]
  },
  {
   "cell_type": "code",
   "execution_count": null,
   "id": "34f22554",
   "metadata": {},
   "outputs": [],
   "source": []
  },
  {
   "cell_type": "code",
   "execution_count": 49,
   "id": "99b4871c",
   "metadata": {},
   "outputs": [],
   "source": [
    "features , labels = features_and_labels(input_sequences , total_words)"
   ]
  },
  {
   "cell_type": "code",
   "execution_count": 50,
   "id": "4e371475",
   "metadata": {},
   "outputs": [
    {
     "data": {
      "text/plain": [
       "array([[   0,    0,    0, ...,    0,    0,   34],\n",
       "       [   0,    0,    0, ...,    0,   34,  417],\n",
       "       [   0,    0,    0, ...,   34,  417,  877],\n",
       "       ...,\n",
       "       [   0,    0,    0, ..., 3209,  493,  493],\n",
       "       [   0,    0,    0, ...,  493,  493, 3210],\n",
       "       [   0,    0,    0, ...,  493, 3210,   15]])"
      ]
     },
     "execution_count": 50,
     "metadata": {},
     "output_type": "execute_result"
    }
   ],
   "source": [
    "features"
   ]
  },
  {
   "cell_type": "code",
   "execution_count": 51,
   "id": "aee93e35",
   "metadata": {
    "collapsed": true
   },
   "outputs": [
    {
     "data": {
      "text/plain": [
       "array([[0., 0., 0., ..., 0., 0., 0.],\n",
       "       [0., 0., 0., ..., 0., 0., 0.],\n",
       "       [0., 0., 0., ..., 0., 0., 0.],\n",
       "       ...,\n",
       "       [0., 0., 0., ..., 0., 0., 1.],\n",
       "       [0., 0., 0., ..., 0., 0., 0.],\n",
       "       [0., 0., 0., ..., 0., 0., 0.]], dtype=float32)"
      ]
     },
     "execution_count": 51,
     "metadata": {},
     "output_type": "execute_result"
    }
   ],
   "source": [
    "labels"
   ]
  },
  {
   "cell_type": "code",
   "execution_count": 52,
   "id": "58b47e87",
   "metadata": {},
   "outputs": [
    {
     "name": "stdout",
     "output_type": "stream",
     "text": [
      "features have shape: (15462, 10)\n",
      "labels have shape: (15462, 3211)\n"
     ]
    }
   ],
   "source": [
    "print(f\"features have shape: {features.shape}\")\n",
    "print(f\"labels have shape: {labels.shape}\")"
   ]
  },
  {
   "cell_type": "code",
   "execution_count": null,
   "id": "69003cea",
   "metadata": {},
   "outputs": [],
   "source": []
  },
  {
   "cell_type": "markdown",
   "id": "5b32e157",
   "metadata": {},
   "source": [
    "### Create the model"
   ]
  },
  {
   "cell_type": "code",
   "execution_count": null,
   "id": "0b389324",
   "metadata": {},
   "outputs": [],
   "source": []
  },
  {
   "cell_type": "code",
   "execution_count": 63,
   "id": "374babb4",
   "metadata": {},
   "outputs": [],
   "source": [
    "def create_model(total_words , max_sequence_len):\n",
    "    model=tf.keras.Sequential([\n",
    "        tf.keras.layers.Embedding(total_words ,100 , input_length=max_sequence_len-1),\n",
    "        tf.keras.layers.Bidirectional(tf.keras.layers.LSTM(128)),\n",
    "        tf.keras.layers.Dense(total_words , activation='softmax')\n",
    "            ])\n",
    "    \n",
    "    model.compile(loss='categorical_crossentropy',\n",
    "                optimizer='Adam',\n",
    "                metrics=['accuracy'])\n",
    "    \n",
    "    return model"
   ]
  },
  {
   "cell_type": "code",
   "execution_count": null,
   "id": "deefdbdd",
   "metadata": {},
   "outputs": [],
   "source": []
  },
  {
   "cell_type": "code",
   "execution_count": 59,
   "id": "98d61f99",
   "metadata": {
    "collapsed": true
   },
   "outputs": [
    {
     "name": "stdout",
     "output_type": "stream",
     "text": [
      "Epoch 1/50\n",
      "484/484 [==============================] - 19s 32ms/step - loss: 6.8759 - accuracy: 0.0226\n",
      "Epoch 2/50\n",
      "484/484 [==============================] - 21s 43ms/step - loss: 6.4272 - accuracy: 0.0336\n",
      "Epoch 3/50\n",
      "484/484 [==============================] - 18s 38ms/step - loss: 6.1983 - accuracy: 0.0407\n",
      "Epoch 4/50\n",
      "484/484 [==============================] - 17s 34ms/step - loss: 5.9491 - accuracy: 0.0499\n",
      "Epoch 5/50\n",
      "484/484 [==============================] - 17s 35ms/step - loss: 5.6785 - accuracy: 0.0607\n",
      "Epoch 6/50\n",
      "484/484 [==============================] - 18s 38ms/step - loss: 5.3591 - accuracy: 0.0724\n",
      "Epoch 7/50\n",
      "484/484 [==============================] - 17s 34ms/step - loss: 5.0115 - accuracy: 0.0900\n",
      "Epoch 8/50\n",
      "484/484 [==============================] - 16s 32ms/step - loss: 4.6439 - accuracy: 0.1116\n",
      "Epoch 9/50\n",
      "484/484 [==============================] - 15s 31ms/step - loss: 4.2744 - accuracy: 0.1471\n",
      "Epoch 10/50\n",
      "484/484 [==============================] - 15s 31ms/step - loss: 3.9180 - accuracy: 0.1972\n",
      "Epoch 11/50\n",
      "484/484 [==============================] - 15s 31ms/step - loss: 3.5732 - accuracy: 0.2623\n",
      "Epoch 12/50\n",
      "484/484 [==============================] - 15s 31ms/step - loss: 3.2612 - accuracy: 0.3113\n",
      "Epoch 13/50\n",
      "484/484 [==============================] - 17s 35ms/step - loss: 2.9730 - accuracy: 0.3748\n",
      "Epoch 14/50\n",
      "484/484 [==============================] - 17s 35ms/step - loss: 2.7138 - accuracy: 0.4261\n",
      "Epoch 15/50\n",
      "484/484 [==============================] - 16s 34ms/step - loss: 2.4801 - accuracy: 0.4734\n",
      "Epoch 16/50\n",
      "484/484 [==============================] - 16s 34ms/step - loss: 2.2676 - accuracy: 0.5161\n",
      "Epoch 17/50\n",
      "484/484 [==============================] - 16s 33ms/step - loss: 2.0806 - accuracy: 0.5570\n",
      "Epoch 18/50\n",
      "484/484 [==============================] - 16s 33ms/step - loss: 1.9141 - accuracy: 0.5962\n",
      "Epoch 19/50\n",
      "484/484 [==============================] - 18s 36ms/step - loss: 1.7528 - accuracy: 0.6296\n",
      "Epoch 20/50\n",
      "484/484 [==============================] - 17s 35ms/step - loss: 1.6159 - accuracy: 0.6603\n",
      "Epoch 21/50\n",
      "484/484 [==============================] - 16s 34ms/step - loss: 1.4916 - accuracy: 0.6885\n",
      "Epoch 22/50\n",
      "484/484 [==============================] - 16s 34ms/step - loss: 1.3718 - accuracy: 0.7168\n",
      "Epoch 23/50\n",
      "484/484 [==============================] - 16s 34ms/step - loss: 1.2764 - accuracy: 0.7366\n",
      "Epoch 24/50\n",
      "484/484 [==============================] - 16s 34ms/step - loss: 1.1787 - accuracy: 0.7578\n",
      "Epoch 25/50\n",
      "484/484 [==============================] - 16s 34ms/step - loss: 1.0979 - accuracy: 0.7742\n",
      "Epoch 26/50\n",
      "484/484 [==============================] - 18s 38ms/step - loss: 1.0312 - accuracy: 0.7887\n",
      "Epoch 27/50\n",
      "484/484 [==============================] - 18s 38ms/step - loss: 0.9669 - accuracy: 0.7985\n",
      "Epoch 28/50\n",
      "484/484 [==============================] - 19s 38ms/step - loss: 0.9137 - accuracy: 0.8090\n",
      "Epoch 29/50\n",
      "484/484 [==============================] - 19s 39ms/step - loss: 0.8649 - accuracy: 0.8168\n",
      "Epoch 30/50\n",
      "484/484 [==============================] - 16s 32ms/step - loss: 0.8282 - accuracy: 0.8229\n",
      "Epoch 31/50\n",
      "484/484 [==============================] - 15s 32ms/step - loss: 0.7907 - accuracy: 0.8274\n",
      "Epoch 32/50\n",
      "484/484 [==============================] - 17s 35ms/step - loss: 0.7543 - accuracy: 0.8341\n",
      "Epoch 33/50\n",
      "484/484 [==============================] - 15s 32ms/step - loss: 0.7332 - accuracy: 0.8376\n",
      "Epoch 34/50\n",
      "484/484 [==============================] - 16s 32ms/step - loss: 0.7126 - accuracy: 0.8371\n",
      "Epoch 35/50\n",
      "484/484 [==============================] - 18s 37ms/step - loss: 0.6940 - accuracy: 0.8411\n",
      "Epoch 36/50\n",
      "484/484 [==============================] - 16s 32ms/step - loss: 0.6782 - accuracy: 0.8404\n",
      "Epoch 37/50\n",
      "484/484 [==============================] - 16s 34ms/step - loss: 0.6623 - accuracy: 0.8429\n",
      "Epoch 38/50\n",
      "484/484 [==============================] - 17s 35ms/step - loss: 0.6450 - accuracy: 0.8445\n",
      "Epoch 39/50\n",
      "484/484 [==============================] - 17s 34ms/step - loss: 0.6383 - accuracy: 0.8439\n",
      "Epoch 40/50\n",
      "484/484 [==============================] - 16s 33ms/step - loss: 0.6276 - accuracy: 0.8463\n",
      "Epoch 41/50\n",
      "484/484 [==============================] - 16s 34ms/step - loss: 0.6130 - accuracy: 0.8489\n",
      "Epoch 42/50\n",
      "484/484 [==============================] - 17s 35ms/step - loss: 0.6113 - accuracy: 0.8463\n",
      "Epoch 43/50\n",
      "484/484 [==============================] - 17s 35ms/step - loss: 0.6064 - accuracy: 0.8483\n",
      "Epoch 44/50\n",
      "484/484 [==============================] - 18s 38ms/step - loss: 0.5960 - accuracy: 0.8494\n",
      "Epoch 45/50\n",
      "484/484 [==============================] - 17s 34ms/step - loss: 0.5941 - accuracy: 0.8472\n",
      "Epoch 46/50\n",
      "484/484 [==============================] - 18s 37ms/step - loss: 0.5876 - accuracy: 0.8480\n",
      "Epoch 47/50\n",
      "484/484 [==============================] - 19s 38ms/step - loss: 0.5791 - accuracy: 0.8494\n",
      "Epoch 48/50\n",
      "484/484 [==============================] - 17s 34ms/step - loss: 0.5745 - accuracy: 0.8506\n",
      "Epoch 49/50\n",
      "484/484 [==============================] - 17s 35ms/step - loss: 0.5727 - accuracy: 0.8505\n",
      "Epoch 50/50\n",
      "484/484 [==============================] - 17s 34ms/step - loss: 0.5747 - accuracy: 0.8490\n"
     ]
    }
   ],
   "source": [
    "model= create_model(total_words , max_sequence_len)\n",
    "history=model.fit(features ,labels , epochs=50 ,verbose=1)"
   ]
  },
  {
   "cell_type": "code",
   "execution_count": null,
   "id": "17a605f3",
   "metadata": {},
   "outputs": [],
   "source": []
  },
  {
   "cell_type": "code",
   "execution_count": 72,
   "id": "f93f9e9d",
   "metadata": {},
   "outputs": [],
   "source": [
    "def plot_graph(history ,string):\n",
    "    plt.plot(history.history[string])    \n",
    "    plt.xlabel(\"Epochs\")\n",
    "    plt.ylabel(string)    \n",
    "    plt.show()"
   ]
  },
  {
   "cell_type": "code",
   "execution_count": 71,
   "id": "4fe2485d",
   "metadata": {},
   "outputs": [
    {
     "data": {
      "image/png": "[encoded data removed]",
      "text/plain": [
       "<Figure size 640x480 with 1 Axes>"
      ]
     },
     "metadata": {},
     "output_type": "display_data"
    }
   ],
   "source": [
    "plot_graph(history, \"accuracy\")"
   ]
  },
  {
   "cell_type": "code",
   "execution_count": 74,
   "id": "167ea77f",
   "metadata": {},
   "outputs": [
    {
     "data": {
      "image/png": "[encoded data removed]",
      "text/plain": [
       "<Figure size 640x480 with 1 Axes>"
      ]
     },
     "metadata": {},
     "output_type": "display_data"
    }
   ],
   "source": [
    "plot_graph(history, \"loss\")"
   ]
  },
  {
   "cell_type": "code",
   "execution_count": null,
   "id": "2bf9e041",
   "metadata": {},
   "outputs": [],
   "source": []
  },
  {
   "cell_type": "code",
   "execution_count": null,
   "id": "11e57901",
   "metadata": {},
   "outputs": [],
   "source": []
  },
  {
   "cell_type": "code",
   "execution_count": null,
   "id": "f4edd4ee",
   "metadata": {},
   "outputs": [],
   "source": []
  },
  {
   "cell_type": "code",
   "execution_count": null,
   "id": "e902ed56",
   "metadata": {},
   "outputs": [],
   "source": []
  },
  {
   "cell_type": "code",
   "execution_count": null,
   "id": "ef51e0f3",
   "metadata": {},
   "outputs": [],
   "source": []
  },
  {
   "cell_type": "code",
   "execution_count": null,
   "id": "65cd0064",
   "metadata": {},
   "outputs": [],
   "source": []
  },
  {
   "cell_type": "code",
   "execution_count": null,
   "id": "001ded8a",
   "metadata": {},
   "outputs": [],
   "source": []
  },
  {
   "cell_type": "code",
   "execution_count": null,
   "id": "4c5e511f",
   "metadata": {},
   "outputs": [],
   "source": []
  },
  {
   "cell_type": "code",
   "execution_count": null,
   "id": "0aa86662",
   "metadata": {},
   "outputs": [],
   "source": []
  },
  {
   "cell_type": "code",
   "execution_count": null,
   "id": "676d5cf6",
   "metadata": {},
   "outputs": [],
   "source": []
  },
  {
   "cell_type": "code",
   "execution_count": null,
   "id": "c0b7276c",
   "metadata": {},
   "outputs": [],
   "source": []
  },
  {
   "cell_type": "code",
   "execution_count": null,
   "id": "a034868a",
   "metadata": {},
   "outputs": [],
   "source": []
  },
  {
   "cell_type": "code",
   "execution_count": null,
   "id": "a4b0bf47",
   "metadata": {},
   "outputs": [],
   "source": []
  },
  {
   "cell_type": "code",
   "execution_count": null,
   "id": "96c001de",
   "metadata": {},
   "outputs": [],
   "source": []
  },
  {
   "cell_type": "code",
   "execution_count": null,
   "id": "ff8c8bc2",
   "metadata": {},
   "outputs": [],
   "source": []
  },
  {
   "cell_type": "code",
   "execution_count": null,
   "id": "72634e2c",
   "metadata": {},
   "outputs": [],
   "source": []
  },
  {
   "cell_type": "code",
   "execution_count": null,
   "id": "563d7e2c",
   "metadata": {},
   "outputs": [],
   "source": []
  },
  {
   "cell_type": "code",
   "execution_count": null,
   "id": "056ef239",
   "metadata": {},
   "outputs": [],
   "source": []
  },
  {
   "cell_type": "code",
   "execution_count": null,
   "id": "b1264520",
   "metadata": {},
   "outputs": [],
   "source": []
  },
  {
   "cell_type": "code",
   "execution_count": null,
   "id": "1558c83f",
   "metadata": {},
   "outputs": [],
   "source": []
  },
  {
   "cell_type": "code",
   "execution_count": null,
   "id": "29bd1283",
   "metadata": {},
   "outputs": [],
   "source": []
  },
  {
   "cell_type": "code",
   "execution_count": null,
   "id": "2b435020",
   "metadata": {},
   "outputs": [],
   "source": []
  },
  {
   "cell_type": "code",
   "execution_count": null,
   "id": "44f6907e",
   "metadata": {},
   "outputs": [],
   "source": []
  },
  {
   "cell_type": "code",
   "execution_count": null,
   "id": "e08e8fd2",
   "metadata": {},
   "outputs": [],
   "source": []
  },
  {
   "cell_type": "code",
   "execution_count": null,
   "id": "017cc029",
   "metadata": {},
   "outputs": [],
   "source": []
  },
  {
   "cell_type": "code",
   "execution_count": null,
   "id": "c563eefa",
   "metadata": {},
   "outputs": [],
   "source": []
  },
  {
   "cell_type": "code",
   "execution_count": null,
   "id": "2e8dd08e",
   "metadata": {},
   "outputs": [],
   "source": []
  },
  {
   "cell_type": "code",
   "execution_count": null,
   "id": "b7e9782b",
   "metadata": {},
   "outputs": [],
   "source": []
  },
  {
   "cell_type": "code",
   "execution_count": null,
   "id": "4bd8114d",
   "metadata": {},
   "outputs": [],
   "source": []
  }
 ],
 "metadata": {
  "kernelspec": {
   "display_name": "Python 3 (ipykernel)",
   "language": "python",
   "name": "python3"
  },
  "language_info": {
   "codemirror_mode": {
    "name": "ipython",
    "version": 3
   },
   "file_extension": ".py",
   "mimetype": "text/x-python",
   "name": "python",
   "nbconvert_exporter": "python",
   "pygments_lexer": "ipython3",
   "version": "3.9.13"
  }
 },
 "nbformat": 4,
 "nbformat_minor": 5
}
