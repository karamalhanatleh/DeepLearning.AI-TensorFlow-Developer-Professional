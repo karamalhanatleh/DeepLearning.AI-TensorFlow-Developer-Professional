{
 "cells": [
  {
   "cell_type": "markdown",
   "id": "d0262c6d",
   "metadata": {},
   "source": [
    "# Generating Text with Neural Networks"
   ]
  },
  {
   "cell_type": "code",
   "execution_count": 1,
   "id": "63bb074a",
   "metadata": {},
   "outputs": [],
   "source": [
    "#import paskaes \n",
    "import numpy as np\n",
    "import tensorflow as tf \n",
    "\n",
    "from tensorflow.keras.layers import *\n",
    "from tensorflow.keras.models import Sequential\n",
    "\n",
    "from tensorflow.keras.preprocessing.text import Tokenizer\n",
    "from tensorflow.keras.preprocessing.sequence import pad_sequences"
   ]
  },
  {
   "cell_type": "code",
   "execution_count": null,
   "id": "3b894502",
   "metadata": {},
   "outputs": [],
   "source": []
  },
  {
   "cell_type": "markdown",
   "id": "c954d717",
   "metadata": {},
   "source": [
    "### Building the Word Vocabulary"
   ]
  },
  {
   "cell_type": "code",
   "execution_count": 2,
   "id": "1102fbca",
   "metadata": {},
   "outputs": [],
   "source": [
    "#sample data \n",
    "data=\"In the town of Athy one Jeremy Lanigan \\n Battered away til he hadnt a pound. \\nHis father died and made him a man again \\n Left him a farm and ten acres of ground. \\nHe gave a grand party for friends and relations \\nWho didnt forget him when come to the wall, \\nAnd if youll but listen Ill make your eyes glisten \\nOf the rows and the ructions of Lanigans Ball. \\nMyself to be sure got free invitation, \\nFor all the nice girls and boys I might ask, \\nAnd just in a minute both friends and relations \\nWere dancing round merry as bees round a cask. \\nJudy ODaly, that nice little milliner, \\nShe tipped me a wink for to give her a call, \\nAnd I soon arrived with Peggy McGilligan \\nJust in time for Lanigans Ball. \\nThere were lashings of punch and wine for the ladies, \\nPotatoes and cakes; there was bacon and tea, \\nThere were the Nolans, Dolans, OGradys \\nCourting the girls and dancing away. \\nSongs they went round as plenty as water, \\nThe harp that once sounded in Taras old hall,\\nSweet Nelly Gray and The Rat Catchers Daughter,\\nAll singing together at Lanigans Ball. \\nThey were doing all kinds of nonsensical polkas \\nAll round the room in a whirligig. \\nJulia and I, we banished their nonsense \\nAnd tipped them the twist of a reel and a jig. \\nAch mavrone, how the girls got all mad at me \\nDanced til youd think the ceiling would fall. \\nFor I spent three weeks at Brooks Academy \\nLearning new steps for Lanigans Ball. \\nThree long weeks I spent up in Dublin, \\nThree long weeks to learn nothing at all,\\n Three long weeks I spent up in Dublin, \\nLearning new steps for Lanigans Ball. \\nShe stepped out and I stepped in again, \\nI stepped out and she stepped in again, \\nShe stepped out and I stepped in again, \\nLearning new steps for Lanigans Ball. \\nBoys were all merry and the girls they were hearty \\nAnd danced all around in couples and groups, \\nTil an accident happened, young Terrance McCarthy \\nPut his right leg through miss Finnertys hoops. \\nPoor creature fainted and cried Meelia murther, \\nCalled for her brothers and gathered them all. \\nCarmody swore that hed go no further \\nTil he had satisfaction at Lanigans Ball. \\nIn the midst of the row miss Kerrigan fainted, \\nHer cheeks at the same time as red as a rose. \\nSome of the lads declared she was painted, \\nShe took a small drop too much, I suppose. \\nHer sweetheart, Ned Morgan, so powerful and able, \\nWhen he saw his fair colleen stretched out by the wall, \\nTore the left leg from under the table \\nAnd smashed all the Chaneys at Lanigans Ball. \\nBoys, oh boys, twas then there were runctions. \\nMyself got a lick from big Phelim McHugh. \\nI soon replied to his introduction \\nAnd kicked up a terrible hullabaloo. \\nOld Casey, the piper, was near being strangled. \\nThey squeezed up his pipes, bellows, chanters and all. \\nThe girls, in their ribbons, they got all entangled \\nAnd that put an end to Lanigans Ball.\"\n"
   ]
  },
  {
   "cell_type": "code",
   "execution_count": 3,
   "id": "13edcbe4",
   "metadata": {
    "collapsed": true
   },
   "outputs": [
    {
     "name": "stdout",
     "output_type": "stream",
     "text": [
      "['in the town of athy one jeremy lanigan ', ' battered away til he hadnt a pound. ', 'his father died and made him a man again ', ' left him a farm and ten acres of ground. ', 'he gave a grand party for friends and relations ', 'who didnt forget him when come to the wall, ', 'and if youll but listen ill make your eyes glisten ', 'of the rows and the ructions of lanigans ball. ', 'myself to be sure got free invitation, ', 'for all the nice girls and boys i might ask, ', 'and just in a minute both friends and relations ', 'were dancing round merry as bees round a cask. ', 'judy odaly, that nice little milliner, ', 'she tipped me a wink for to give her a call, ', 'and i soon arrived with peggy mcgilligan ', 'just in time for lanigans ball. ', 'there were lashings of punch and wine for the ladies, ', 'potatoes and cakes; there was bacon and tea, ', 'there were the nolans, dolans, ogradys ', 'courting the girls and dancing away. ', 'songs they went round as plenty as water, ', 'the harp that once sounded in taras old hall,', 'sweet nelly gray and the rat catchers daughter,', 'all singing together at lanigans ball. ', 'they were doing all kinds of nonsensical polkas ', 'all round the room in a whirligig. ', 'julia and i, we banished their nonsense ', 'and tipped them the twist of a reel and a jig. ', 'ach mavrone, how the girls got all mad at me ', 'danced til youd think the ceiling would fall. ', 'for i spent three weeks at brooks academy ', 'learning new steps for lanigans ball. ', 'three long weeks i spent up in dublin, ', 'three long weeks to learn nothing at all,', ' three long weeks i spent up in dublin, ', 'learning new steps for lanigans ball. ', 'she stepped out and i stepped in again, ', 'i stepped out and she stepped in again, ', 'she stepped out and i stepped in again, ', 'learning new steps for lanigans ball. ', 'boys were all merry and the girls they were hearty ', 'and danced all around in couples and groups, ', 'til an accident happened, young terrance mccarthy ', 'put his right leg through miss finnertys hoops. ', 'poor creature fainted and cried meelia murther, ', 'called for her brothers and gathered them all. ', 'carmody swore that hed go no further ', 'til he had satisfaction at lanigans ball. ', 'in the midst of the row miss kerrigan fainted, ', 'her cheeks at the same time as red as a rose. ', 'some of the lads declared she was painted, ', 'she took a small drop too much, i suppose. ', 'her sweetheart, ned morgan, so powerful and able, ', 'when he saw his fair colleen stretched out by the wall, ', 'tore the left leg from under the table ', 'and smashed all the chaneys at lanigans ball. ', 'boys, oh boys, twas then there were runctions. ', 'myself got a lick from big phelim mchugh. ', 'i soon replied to his introduction ', 'and kicked up a terrible hullabaloo. ', 'old casey, the piper, was near being strangled. ', 'they squeezed up his pipes, bellows, chanters and all. ', 'the girls, in their ribbons, they got all entangled ', 'and that put an end to lanigans ball.']\n"
     ]
    }
   ],
   "source": [
    "#preprossing text \n",
    "corpus = data.lower().split(\"\\n\")\n",
    "\n",
    "print(corpus)"
   ]
  },
  {
   "cell_type": "code",
   "execution_count": 4,
   "id": "a913abd5",
   "metadata": {},
   "outputs": [],
   "source": [
    "# Initialize the Tokenizer class\n",
    "tokenizer = Tokenizer()\n",
    "\n",
    "tokenizer.fit_on_texts(corpus)"
   ]
  },
  {
   "cell_type": "code",
   "execution_count": 7,
   "id": "9879ab55",
   "metadata": {},
   "outputs": [
    {
     "name": "stdout",
     "output_type": "stream",
     "text": [
      "total words: 263\n"
     ]
    }
   ],
   "source": [
    "## Define the total words.\n",
    "# add 1 for the index `0` which is just the padding token.\n",
    "\n",
    "total_words= len(tokenizer.word_index)+1\n",
    "print(f'total words: {total_words}')"
   ]
  },
  {
   "cell_type": "code",
   "execution_count": null,
   "id": "d81c8dfd",
   "metadata": {},
   "outputs": [],
   "source": []
  },
  {
   "cell_type": "code",
   "execution_count": null,
   "id": "8700d20d",
   "metadata": {},
   "outputs": [],
   "source": []
  },
  {
   "cell_type": "markdown",
   "id": "7aad8610",
   "metadata": {},
   "source": [
    "### Preprocessing the Dataset\n"
   ]
  },
  {
   "cell_type": "code",
   "execution_count": 8,
   "id": "96ff4e6d",
   "metadata": {},
   "outputs": [],
   "source": [
    "# Initialize the sequences list\n",
    "input_sequences = []"
   ]
  },
  {
   "cell_type": "code",
   "execution_count": 9,
   "id": "3ead4029",
   "metadata": {},
   "outputs": [],
   "source": [
    "for line in corpus:\n",
    "    token_list = tokenizer.texts_to_sequences([line])[0]\n",
    "    \n",
    "    for i in range(1, len(token_list)):\n",
    "        n_gram_sequence = token_list[:i+1]\n",
    "        \n",
    "        input_sequences.append(n_gram_sequence)"
   ]
  },
  {
   "cell_type": "code",
   "execution_count": 10,
   "id": "8478d5ad",
   "metadata": {
    "collapsed": true
   },
   "outputs": [
    {
     "data": {
      "text/plain": [
       "[[4, 2],\n",
       " [4, 2, 66],\n",
       " [4, 2, 66, 8],\n",
       " [4, 2, 66, 8, 67],\n",
       " [4, 2, 66, 8, 67, 68],\n",
       " [4, 2, 66, 8, 67, 68, 69],\n",
       " [4, 2, 66, 8, 67, 68, 69, 70],\n",
       " [71, 40],\n",
       " [71, 40, 20],\n",
       " [71, 40, 20, 21],\n",
       " [71, 40, 20, 21, 72],\n",
       " [71, 40, 20, 21, 72, 3],\n",
       " [71, 40, 20, 21, 72, 3, 73],\n",
       " [16, 74],\n",
       " [16, 74, 75],\n",
       " [16, 74, 75, 1],\n",
       " [16, 74, 75, 1, 76],\n",
       " [16, 74, 75, 1, 76, 33],\n",
       " [16, 74, 75, 1, 76, 33, 3],\n",
       " [16, 74, 75, 1, 76, 33, 3, 77],\n",
       " [16, 74, 75, 1, 76, 33, 3, 77, 22],\n",
       " [41, 33],\n",
       " [41, 33, 3],\n",
       " [41, 33, 3, 78],\n",
       " [41, 33, 3, 78, 1],\n",
       " [41, 33, 3, 78, 1, 79],\n",
       " [41, 33, 3, 78, 1, 79, 80],\n",
       " [41, 33, 3, 78, 1, 79, 80, 8],\n",
       " [41, 33, 3, 78, 1, 79, 80, 8, 81],\n",
       " [21, 82],\n",
       " [21, 82, 3],\n",
       " [21, 82, 3, 83],\n",
       " [21, 82, 3, 83, 84],\n",
       " [21, 82, 3, 83, 84, 7],\n",
       " [21, 82, 3, 83, 84, 7, 42],\n",
       " [21, 82, 3, 83, 84, 7, 42, 1],\n",
       " [21, 82, 3, 83, 84, 7, 42, 1, 43],\n",
       " [85, 86],\n",
       " [85, 86, 87],\n",
       " [85, 86, 87, 33],\n",
       " [85, 86, 87, 33, 44],\n",
       " [85, 86, 87, 33, 44, 88],\n",
       " [85, 86, 87, 33, 44, 88, 13],\n",
       " [85, 86, 87, 33, 44, 88, 13, 2],\n",
       " [85, 86, 87, 33, 44, 88, 13, 2, 45],\n",
       " [1, 89],\n",
       " [1, 89, 90],\n",
       " [1, 89, 90, 91],\n",
       " [1, 89, 90, 91, 92],\n",
       " [1, 89, 90, 91, 92, 93],\n",
       " [1, 89, 90, 91, 92, 93, 94],\n",
       " [1, 89, 90, 91, 92, 93, 94, 95],\n",
       " [1, 89, 90, 91, 92, 93, 94, 95, 96],\n",
       " [1, 89, 90, 91, 92, 93, 94, 95, 96, 97],\n",
       " [8, 2],\n",
       " [8, 2, 98],\n",
       " [8, 2, 98, 1],\n",
       " [8, 2, 98, 1, 2],\n",
       " [8, 2, 98, 1, 2, 99],\n",
       " [8, 2, 98, 1, 2, 99, 8],\n",
       " [8, 2, 98, 1, 2, 99, 8, 9],\n",
       " [8, 2, 98, 1, 2, 99, 8, 9, 10],\n",
       " [46, 13],\n",
       " [46, 13, 100],\n",
       " [46, 13, 100, 101],\n",
       " [46, 13, 100, 101, 23],\n",
       " [46, 13, 100, 101, 23, 102],\n",
       " [46, 13, 100, 101, 23, 102, 103],\n",
       " [7, 5],\n",
       " [7, 5, 2],\n",
       " [7, 5, 2, 47],\n",
       " [7, 5, 2, 47, 17],\n",
       " [7, 5, 2, 47, 17, 1],\n",
       " [7, 5, 2, 47, 17, 1, 24],\n",
       " [7, 5, 2, 47, 17, 1, 24, 6],\n",
       " [7, 5, 2, 47, 17, 1, 24, 6, 104],\n",
       " [7, 5, 2, 47, 17, 1, 24, 6, 104, 105],\n",
       " [1, 48],\n",
       " [1, 48, 4],\n",
       " [1, 48, 4, 3],\n",
       " [1, 48, 4, 3, 106],\n",
       " [1, 48, 4, 3, 106, 107],\n",
       " [1, 48, 4, 3, 106, 107, 42],\n",
       " [1, 48, 4, 3, 106, 107, 42, 1],\n",
       " [1, 48, 4, 3, 106, 107, 42, 1, 43],\n",
       " [11, 49],\n",
       " [11, 49, 25],\n",
       " [11, 49, 25, 50],\n",
       " [11, 49, 25, 50, 18],\n",
       " [11, 49, 25, 50, 18, 108],\n",
       " [11, 49, 25, 50, 18, 108, 25],\n",
       " [11, 49, 25, 50, 18, 108, 25, 3],\n",
       " [11, 49, 25, 50, 18, 108, 25, 3, 109],\n",
       " [110, 111],\n",
       " [110, 111, 26],\n",
       " [110, 111, 26, 47],\n",
       " [110, 111, 26, 47, 112],\n",
       " [110, 111, 26, 47, 112, 113],\n",
       " [14, 51],\n",
       " [14, 51, 52],\n",
       " [14, 51, 52, 3],\n",
       " [14, 51, 52, 3, 114],\n",
       " [14, 51, 52, 3, 114, 7],\n",
       " [14, 51, 52, 3, 114, 7, 13],\n",
       " [14, 51, 52, 3, 114, 7, 13, 115],\n",
       " [14, 51, 52, 3, 114, 7, 13, 115, 27],\n",
       " [14, 51, 52, 3, 114, 7, 13, 115, 27, 3],\n",
       " [14, 51, 52, 3, 114, 7, 13, 115, 27, 3, 116],\n",
       " [1, 6],\n",
       " [1, 6, 53],\n",
       " [1, 6, 53, 117],\n",
       " [1, 6, 53, 117, 118],\n",
       " [1, 6, 53, 117, 118, 119],\n",
       " [1, 6, 53, 117, 118, 119, 120],\n",
       " [48, 4],\n",
       " [48, 4, 54],\n",
       " [48, 4, 54, 7],\n",
       " [48, 4, 54, 7, 9],\n",
       " [48, 4, 54, 7, 9, 10],\n",
       " [28, 11],\n",
       " [28, 11, 121],\n",
       " [28, 11, 121, 8],\n",
       " [28, 11, 121, 8, 122],\n",
       " [28, 11, 121, 8, 122, 1],\n",
       " [28, 11, 121, 8, 122, 1, 123],\n",
       " [28, 11, 121, 8, 122, 1, 123, 7],\n",
       " [28, 11, 121, 8, 122, 1, 123, 7, 2],\n",
       " [28, 11, 121, 8, 122, 1, 123, 7, 2, 124],\n",
       " [125, 1],\n",
       " [125, 1, 126],\n",
       " [125, 1, 126, 28],\n",
       " [125, 1, 126, 28, 34],\n",
       " [125, 1, 126, 28, 34, 127],\n",
       " [125, 1, 126, 28, 34, 127, 1],\n",
       " [125, 1, 126, 28, 34, 127, 1, 128],\n",
       " [28, 11],\n",
       " [28, 11, 2],\n",
       " [28, 11, 2, 129],\n",
       " [28, 11, 2, 129, 130],\n",
       " [28, 11, 2, 129, 130, 131],\n",
       " [132, 2],\n",
       " [132, 2, 17],\n",
       " [132, 2, 17, 1],\n",
       " [132, 2, 17, 1, 49],\n",
       " [132, 2, 17, 1, 49, 40],\n",
       " [133, 19],\n",
       " [133, 19, 134],\n",
       " [133, 19, 134, 25],\n",
       " [133, 19, 134, 25, 18],\n",
       " [133, 19, 134, 25, 18, 135],\n",
       " [133, 19, 134, 25, 18, 135, 18],\n",
       " [133, 19, 134, 25, 18, 135, 18, 136],\n",
       " [2, 137],\n",
       " [2, 137, 26],\n",
       " [2, 137, 26, 138],\n",
       " [2, 137, 26, 138, 139],\n",
       " [2, 137, 26, 138, 139, 4],\n",
       " [2, 137, 26, 138, 139, 4, 140],\n",
       " [2, 137, 26, 138, 139, 4, 140, 55],\n",
       " [2, 137, 26, 138, 139, 4, 140, 55, 141],\n",
       " [142, 143],\n",
       " [142, 143, 144],\n",
       " [142, 143, 144, 1],\n",
       " [142, 143, 144, 1, 2],\n",
       " [142, 143, 144, 1, 2, 145],\n",
       " [142, 143, 144, 1, 2, 145, 146],\n",
       " [142, 143, 144, 1, 2, 145, 146, 147],\n",
       " [5, 148],\n",
       " [5, 148, 149],\n",
       " [5, 148, 149, 12],\n",
       " [5, 148, 149, 12, 9],\n",
       " [5, 148, 149, 12, 9, 10],\n",
       " [19, 11],\n",
       " [19, 11, 150],\n",
       " [19, 11, 150, 5],\n",
       " [19, 11, 150, 5, 151],\n",
       " [19, 11, 150, 5, 151, 8],\n",
       " [19, 11, 150, 5, 151, 8, 152],\n",
       " [19, 11, 150, 5, 151, 8, 152, 153],\n",
       " [5, 25],\n",
       " [5, 25, 2],\n",
       " [5, 25, 2, 154],\n",
       " [5, 25, 2, 154, 4],\n",
       " [5, 25, 2, 154, 4, 3],\n",
       " [5, 25, 2, 154, 4, 3, 155],\n",
       " [156, 1],\n",
       " [156, 1, 6],\n",
       " [156, 1, 6, 157],\n",
       " [156, 1, 6, 157, 158],\n",
       " [156, 1, 6, 157, 158, 56],\n",
       " [156, 1, 6, 157, 158, 56, 159],\n",
       " [1, 51],\n",
       " [1, 51, 57],\n",
       " [1, 51, 57, 2],\n",
       " [1, 51, 57, 2, 160],\n",
       " [1, 51, 57, 2, 160, 8],\n",
       " [1, 51, 57, 2, 160, 8, 3],\n",
       " [1, 51, 57, 2, 160, 8, 3, 161],\n",
       " [1, 51, 57, 2, 160, 8, 3, 161, 1],\n",
       " [1, 51, 57, 2, 160, 8, 3, 161, 1, 3],\n",
       " [1, 51, 57, 2, 160, 8, 3, 161, 1, 3, 162],\n",
       " [163, 164],\n",
       " [163, 164, 165],\n",
       " [163, 164, 165, 2],\n",
       " [163, 164, 165, 2, 17],\n",
       " [163, 164, 165, 2, 17, 23],\n",
       " [163, 164, 165, 2, 17, 23, 5],\n",
       " [163, 164, 165, 2, 17, 23, 5, 166],\n",
       " [163, 164, 165, 2, 17, 23, 5, 166, 12],\n",
       " [163, 164, 165, 2, 17, 23, 5, 166, 12, 52],\n",
       " [58, 20],\n",
       " [58, 20, 167],\n",
       " [58, 20, 167, 168],\n",
       " [58, 20, 167, 168, 2],\n",
       " [58, 20, 167, 168, 2, 169],\n",
       " [58, 20, 167, 168, 2, 169, 170],\n",
       " [58, 20, 167, 168, 2, 169, 170, 171],\n",
       " [7, 6],\n",
       " [7, 6, 35],\n",
       " [7, 6, 35, 29],\n",
       " [7, 6, 35, 29, 30],\n",
       " [7, 6, 35, 29, 30, 12],\n",
       " [7, 6, 35, 29, 30, 12, 172],\n",
       " [7, 6, 35, 29, 30, 12, 172, 173],\n",
       " [36, 37],\n",
       " [36, 37, 38],\n",
       " [36, 37, 38, 7],\n",
       " [36, 37, 38, 7, 9],\n",
       " [36, 37, 38, 7, 9, 10],\n",
       " [29, 39],\n",
       " [29, 39, 30],\n",
       " [29, 39, 30, 6],\n",
       " [29, 39, 30, 6, 35],\n",
       " [29, 39, 30, 6, 35, 31],\n",
       " [29, 39, 30, 6, 35, 31, 4],\n",
       " [29, 39, 30, 6, 35, 31, 4, 59],\n",
       " [29, 39],\n",
       " [29, 39, 30],\n",
       " [29, 39, 30, 13],\n",
       " [29, 39, 30, 13, 174],\n",
       " [29, 39, 30, 13, 174, 175],\n",
       " [29, 39, 30, 13, 174, 175, 12],\n",
       " [29, 39, 30, 13, 174, 175, 12, 5],\n",
       " [29, 39],\n",
       " [29, 39, 30],\n",
       " [29, 39, 30, 6],\n",
       " [29, 39, 30, 6, 35],\n",
       " [29, 39, 30, 6, 35, 31],\n",
       " [29, 39, 30, 6, 35, 31, 4],\n",
       " [29, 39, 30, 6, 35, 31, 4, 59],\n",
       " [36, 37],\n",
       " [36, 37, 38],\n",
       " [36, 37, 38, 7],\n",
       " [36, 37, 38, 7, 9],\n",
       " [36, 37, 38, 7, 9, 10],\n",
       " [14, 15],\n",
       " [14, 15, 32],\n",
       " [14, 15, 32, 1],\n",
       " [14, 15, 32, 1, 6],\n",
       " [14, 15, 32, 1, 6, 15],\n",
       " [14, 15, 32, 1, 6, 15, 4],\n",
       " [14, 15, 32, 1, 6, 15, 4, 22],\n",
       " [6, 15],\n",
       " [6, 15, 32],\n",
       " [6, 15, 32, 1],\n",
       " [6, 15, 32, 1, 14],\n",
       " [6, 15, 32, 1, 14, 15],\n",
       " [6, 15, 32, 1, 14, 15, 4],\n",
       " [6, 15, 32, 1, 14, 15, 4, 22],\n",
       " [14, 15],\n",
       " [14, 15, 32],\n",
       " [14, 15, 32, 1],\n",
       " [14, 15, 32, 1, 6],\n",
       " [14, 15, 32, 1, 6, 15],\n",
       " [14, 15, 32, 1, 6, 15, 4],\n",
       " [14, 15, 32, 1, 6, 15, 4, 22],\n",
       " [36, 37],\n",
       " [36, 37, 38],\n",
       " [36, 37, 38, 7],\n",
       " [36, 37, 38, 7, 9],\n",
       " [36, 37, 38, 7, 9, 10],\n",
       " [24, 11],\n",
       " [24, 11, 5],\n",
       " [24, 11, 5, 50],\n",
       " [24, 11, 5, 50, 1],\n",
       " [24, 11, 5, 50, 1, 2],\n",
       " [24, 11, 5, 50, 1, 2, 17],\n",
       " [24, 11, 5, 50, 1, 2, 17, 19],\n",
       " [24, 11, 5, 50, 1, 2, 17, 19, 11],\n",
       " [24, 11, 5, 50, 1, 2, 17, 19, 11, 176],\n",
       " [1, 58],\n",
       " [1, 58, 5],\n",
       " [1, 58, 5, 177],\n",
       " [1, 58, 5, 177, 4],\n",
       " [1, 58, 5, 177, 4, 178],\n",
       " [1, 58, 5, 177, 4, 178, 1],\n",
       " [1, 58, 5, 177, 4, 178, 1, 179],\n",
       " [20, 60],\n",
       " [20, 60, 180],\n",
       " [20, 60, 180, 181],\n",
       " [20, 60, 180, 181, 182],\n",
       " [20, 60, 180, 181, 182, 183],\n",
       " [20, 60, 180, 181, 182, 183, 184],\n",
       " [61, 16],\n",
       " [61, 16, 185],\n",
       " [61, 16, 185, 62],\n",
       " [61, 16, 185, 62, 186],\n",
       " [61, 16, 185, 62, 186, 63],\n",
       " [61, 16, 185, 62, 186, 63, 187],\n",
       " [61, 16, 185, 62, 186, 63, 187, 188],\n",
       " [189, 190],\n",
       " [189, 190, 64],\n",
       " [189, 190, 64, 1],\n",
       " [189, 190, 64, 1, 191],\n",
       " [189, 190, 64, 1, 191, 192],\n",
       " [189, 190, 64, 1, 191, 192, 193],\n",
       " [194, 7],\n",
       " [194, 7, 27],\n",
       " [194, 7, 27, 195],\n",
       " [194, 7, 27, 195, 1],\n",
       " [194, 7, 27, 195, 1, 196],\n",
       " [194, 7, 27, 195, 1, 196, 57],\n",
       " [194, 7, 27, 195, 1, 196, 57, 5],\n",
       " [197, 198],\n",
       " [197, 198, 26],\n",
       " [197, 198, 26, 199],\n",
       " [197, 198, 26, 199, 200],\n",
       " [197, 198, 26, 199, 200, 201],\n",
       " [197, 198, 26, 199, 200, 201, 202],\n",
       " [20, 21],\n",
       " [20, 21, 203],\n",
       " [20, 21, 203, 204],\n",
       " [20, 21, 203, 204, 12],\n",
       " [20, 21, 203, 204, 12, 9],\n",
       " [20, 21, 203, 204, 12, 9, 10],\n",
       " [4, 2],\n",
       " [4, 2, 205],\n",
       " [4, 2, 205, 8],\n",
       " [4, 2, 205, 8, 2],\n",
       " [4, 2, 205, 8, 2, 206],\n",
       " [4, 2, 205, 8, 2, 206, 63],\n",
       " [4, 2, 205, 8, 2, 206, 63, 207],\n",
       " [4, 2, 205, 8, 2, 206, 63, 207, 64],\n",
       " [27, 208],\n",
       " [27, 208, 12],\n",
       " [27, 208, 12, 2],\n",
       " [27, 208, 12, 2, 209],\n",
       " [27, 208, 12, 2, 209, 54],\n",
       " [27, 208, 12, 2, 209, 54, 18],\n",
       " [27, 208, 12, 2, 209, 54, 18, 210],\n",
       " [27, 208, 12, 2, 209, 54, 18, 210, 18],\n",
       " [27, 208, 12, 2, 209, 54, 18, 210, 18, 3],\n",
       " [27, 208, 12, 2, 209, 54, 18, 210, 18, 3, 211],\n",
       " [212, 8],\n",
       " [212, 8, 2],\n",
       " [212, 8, 2, 213],\n",
       " [212, 8, 2, 213, 214],\n",
       " [212, 8, 2, 213, 214, 14],\n",
       " [212, 8, 2, 213, 214, 14, 34],\n",
       " [212, 8, 2, 213, 214, 14, 34, 215],\n",
       " [14, 216],\n",
       " [14, 216, 3],\n",
       " [14, 216, 3, 217],\n",
       " [14, 216, 3, 217, 218],\n",
       " [14, 216, 3, 217, 218, 219],\n",
       " [14, 216, 3, 217, 218, 219, 220],\n",
       " [14, 216, 3, 217, 218, 219, 220, 6],\n",
       " [14, 216, 3, 217, 218, 219, 220, 6, 221],\n",
       " [27, 222],\n",
       " [27, 222, 223],\n",
       " [27, 222, 223, 224],\n",
       " [27, 222, 223, 224, 225],\n",
       " [27, 222, 223, 224, 225, 226],\n",
       " [27, 222, 223, 224, 225, 226, 1],\n",
       " [27, 222, 223, 224, 225, 226, 1, 227],\n",
       " [44, 21],\n",
       " [44, 21, 228],\n",
       " [44, 21, 228, 16],\n",
       " [44, 21, 228, 16, 229],\n",
       " [44, 21, 228, 16, 229, 230],\n",
       " [44, 21, 228, 16, 229, 230, 231],\n",
       " [44, 21, 228, 16, 229, 230, 231, 32],\n",
       " [44, 21, 228, 16, 229, 230, 231, 32, 232],\n",
       " [44, 21, 228, 16, 229, 230, 231, 32, 232, 2],\n",
       " [44, 21, 228, 16, 229, 230, 231, 32, 232, 2, 45],\n",
       " [233, 2],\n",
       " [233, 2, 41],\n",
       " [233, 2, 41, 62],\n",
       " [233, 2, 41, 62, 65],\n",
       " [233, 2, 41, 62, 65, 234],\n",
       " [233, 2, 41, 62, 65, 234, 2],\n",
       " [233, 2, 41, 62, 65, 234, 2, 235],\n",
       " [1, 236],\n",
       " [1, 236, 5],\n",
       " [1, 236, 5, 2],\n",
       " [1, 236, 5, 2, 237],\n",
       " [1, 236, 5, 2, 237, 12],\n",
       " [1, 236, 5, 2, 237, 12, 9],\n",
       " [1, 236, 5, 2, 237, 12, 9, 10],\n",
       " [24, 238],\n",
       " [24, 238, 24],\n",
       " [24, 238, 24, 239],\n",
       " [24, 238, 24, 239, 240],\n",
       " [24, 238, 24, 239, 240, 28],\n",
       " [24, 238, 24, 239, 240, 28, 11],\n",
       " [24, 238, 24, 239, 240, 28, 11, 241],\n",
       " [46, 23],\n",
       " [46, 23, 3],\n",
       " [46, 23, 3, 242],\n",
       " [46, 23, 3, 242, 65],\n",
       " [46, 23, 3, 242, 65, 243],\n",
       " [46, 23, 3, 242, 65, 243, 244],\n",
       " [46, 23, 3, 242, 65, 243, 244, 245],\n",
       " [6, 53],\n",
       " [6, 53, 246],\n",
       " [6, 53, 246, 13],\n",
       " [6, 53, 246, 13, 16],\n",
       " [6, 53, 246, 13, 16, 247],\n",
       " [1, 248],\n",
       " [1, 248, 31],\n",
       " [1, 248, 31, 3],\n",
       " [1, 248, 31, 3, 249],\n",
       " [1, 248, 31, 3, 249, 250],\n",
       " [55, 251],\n",
       " [55, 251, 2],\n",
       " [55, 251, 2, 252],\n",
       " [55, 251, 2, 252, 34],\n",
       " [55, 251, 2, 252, 34, 253],\n",
       " [55, 251, 2, 252, 34, 253, 254],\n",
       " [55, 251, 2, 252, 34, 253, 254, 255],\n",
       " [19, 256],\n",
       " [19, 256, 31],\n",
       " [19, 256, 31, 16],\n",
       " [19, 256, 31, 16, 257],\n",
       " [19, 256, 31, 16, 257, 258],\n",
       " [19, 256, 31, 16, 257, 258, 259],\n",
       " [19, 256, 31, 16, 257, 258, 259, 1],\n",
       " [19, 256, 31, 16, 257, 258, 259, 1, 5],\n",
       " [2, 17],\n",
       " [2, 17, 4],\n",
       " [2, 17, 4, 56],\n",
       " [2, 17, 4, 56, 260],\n",
       " [2, 17, 4, 56, 260, 19],\n",
       " [2, 17, 4, 56, 260, 19, 23],\n",
       " [2, 17, 4, 56, 260, 19, 23, 5],\n",
       " [2, 17, 4, 56, 260, 19, 23, 5, 261],\n",
       " [1, 26],\n",
       " [1, 26, 61],\n",
       " [1, 26, 61, 60],\n",
       " [1, 26, 61, 60, 262],\n",
       " [1, 26, 61, 60, 262, 13],\n",
       " [1, 26, 61, 60, 262, 13, 9],\n",
       " [1, 26, 61, 60, 262, 13, 9, 10]]"
      ]
     },
     "execution_count": 10,
     "metadata": {},
     "output_type": "execute_result"
    }
   ],
   "source": [
    "input_sequences"
   ]
  },
  {
   "cell_type": "code",
   "execution_count": 11,
   "id": "f184bea5",
   "metadata": {},
   "outputs": [],
   "source": [
    "# Get the length of the longest line\n",
    "max_sequence_len = max([len(x) for x in input_sequences])\n",
    "\n",
    "input_sequences=np.array(pad_sequences(input_sequences  ,maxlen=max_sequence_len ,padding='pre'))"
   ]
  },
  {
   "cell_type": "code",
   "execution_count": 13,
   "id": "b1be48f3",
   "metadata": {},
   "outputs": [],
   "source": [
    "xs= input_sequences[:,:-1]\n",
    "labels =input_sequences[:,-1]"
   ]
  },
  {
   "cell_type": "raw",
   "id": "bb3a19d0",
   "metadata": {},
   "source": [
    "xs, labels = input_sequences[:,:-1],input_sequences[:,-1]\n"
   ]
  },
  {
   "cell_type": "code",
   "execution_count": 17,
   "id": "4f7ea7fa",
   "metadata": {
    "collapsed": true
   },
   "outputs": [
    {
     "data": {
      "text/plain": [
       "array([  2,  66,   8,  67,  68,  69,  70,  40,  20,  21,  72,   3,  73,\n",
       "        74,  75,   1,  76,  33,   3,  77,  22,  33,   3,  78,   1,  79,\n",
       "        80,   8,  81,  82,   3,  83,  84,   7,  42,   1,  43,  86,  87,\n",
       "        33,  44,  88,  13,   2,  45,  89,  90,  91,  92,  93,  94,  95,\n",
       "        96,  97,   2,  98,   1,   2,  99,   8,   9,  10,  13, 100, 101,\n",
       "        23, 102, 103,   5,   2,  47,  17,   1,  24,   6, 104, 105,  48,\n",
       "         4,   3, 106, 107,  42,   1,  43,  49,  25,  50,  18, 108,  25,\n",
       "         3, 109, 111,  26,  47, 112, 113,  51,  52,   3, 114,   7,  13,\n",
       "       115,  27,   3, 116,   6,  53, 117, 118, 119, 120,   4,  54,   7,\n",
       "         9,  10,  11, 121,   8, 122,   1, 123,   7,   2, 124,   1, 126,\n",
       "        28,  34, 127,   1, 128,  11,   2, 129, 130, 131,   2,  17,   1,\n",
       "        49,  40,  19, 134,  25,  18, 135,  18, 136, 137,  26, 138, 139,\n",
       "         4, 140,  55, 141, 143, 144,   1,   2, 145, 146, 147, 148, 149,\n",
       "        12,   9,  10,  11, 150,   5, 151,   8, 152, 153,  25,   2, 154,\n",
       "         4,   3, 155,   1,   6, 157, 158,  56, 159,  51,  57,   2, 160,\n",
       "         8,   3, 161,   1,   3, 162, 164, 165,   2,  17,  23,   5, 166,\n",
       "        12,  52,  20, 167, 168,   2, 169, 170, 171,   6,  35,  29,  30,\n",
       "        12, 172, 173,  37,  38,   7,   9,  10,  39,  30,   6,  35,  31,\n",
       "         4,  59,  39,  30,  13, 174, 175,  12,   5,  39,  30,   6,  35,\n",
       "        31,   4,  59,  37,  38,   7,   9,  10,  15,  32,   1,   6,  15,\n",
       "         4,  22,  15,  32,   1,  14,  15,   4,  22,  15,  32,   1,   6,\n",
       "        15,   4,  22,  37,  38,   7,   9,  10,  11,   5,  50,   1,   2,\n",
       "        17,  19,  11, 176,  58,   5, 177,   4, 178,   1, 179,  60, 180,\n",
       "       181, 182, 183, 184,  16, 185,  62, 186,  63, 187, 188, 190,  64,\n",
       "         1, 191, 192, 193,   7,  27, 195,   1, 196,  57,   5, 198,  26,\n",
       "       199, 200, 201, 202,  21, 203, 204,  12,   9,  10,   2, 205,   8,\n",
       "         2, 206,  63, 207,  64, 208,  12,   2, 209,  54,  18, 210,  18,\n",
       "         3, 211,   8,   2, 213, 214,  14,  34, 215, 216,   3, 217, 218,\n",
       "       219, 220,   6, 221, 222, 223, 224, 225, 226,   1, 227,  21, 228,\n",
       "        16, 229, 230, 231,  32, 232,   2,  45,   2,  41,  62,  65, 234,\n",
       "         2, 235, 236,   5,   2, 237,  12,   9,  10, 238,  24, 239, 240,\n",
       "        28,  11, 241,  23,   3, 242,  65, 243, 244, 245,  53, 246,  13,\n",
       "        16, 247, 248,  31,   3, 249, 250, 251,   2, 252,  34, 253, 254,\n",
       "       255, 256,  31,  16, 257, 258, 259,   1,   5,  17,   4,  56, 260,\n",
       "        19,  23,   5, 261,  26,  61,  60, 262,  13,   9,  10])"
      ]
     },
     "execution_count": 17,
     "metadata": {},
     "output_type": "execute_result"
    }
   ],
   "source": [
    "labels"
   ]
  },
  {
   "cell_type": "code",
   "execution_count": 15,
   "id": "639822ed",
   "metadata": {},
   "outputs": [],
   "source": [
    "# Convert the label into one-hot arrays\n",
    "ys = tf.keras.utils.to_categorical(labels , num_classes=total_words)"
   ]
  },
  {
   "cell_type": "code",
   "execution_count": 16,
   "id": "9475ce03",
   "metadata": {},
   "outputs": [
    {
     "data": {
      "text/plain": [
       "array([[0., 0., 1., ..., 0., 0., 0.],\n",
       "       [0., 0., 0., ..., 0., 0., 0.],\n",
       "       [0., 0., 0., ..., 0., 0., 0.],\n",
       "       ...,\n",
       "       [0., 0., 0., ..., 0., 0., 0.],\n",
       "       [0., 0., 0., ..., 0., 0., 0.],\n",
       "       [0., 0., 0., ..., 0., 0., 0.]], dtype=float32)"
      ]
     },
     "execution_count": 16,
     "metadata": {},
     "output_type": "execute_result"
    }
   ],
   "source": [
    "ys"
   ]
  },
  {
   "cell_type": "code",
   "execution_count": null,
   "id": "c5cfebb4",
   "metadata": {},
   "outputs": [],
   "source": []
  },
  {
   "cell_type": "code",
   "execution_count": 19,
   "id": "c3b4e532",
   "metadata": {},
   "outputs": [
    {
     "name": "stdout",
     "output_type": "stream",
     "text": [
      "in the town of athy one jeremy lanigan \n",
      "sample sentence: ['in', 'the', 'town', 'of', 'athy', 'one', 'jeremy', 'lanigan']\n"
     ]
    }
   ],
   "source": [
    "# Get sample sentence\n",
    "sentence = corpus[0].split()\n",
    "print(corpus[0])\n",
    "print(f'sample sentence: {sentence}')"
   ]
  },
  {
   "cell_type": "code",
   "execution_count": null,
   "id": "c27c010c",
   "metadata": {},
   "outputs": [],
   "source": []
  },
  {
   "cell_type": "code",
   "execution_count": 20,
   "id": "de1fcbbe",
   "metadata": {},
   "outputs": [],
   "source": [
    "# Initialize token list\n",
    "token_list = []"
   ]
  },
  {
   "cell_type": "code",
   "execution_count": 21,
   "id": "a4dc5587",
   "metadata": {},
   "outputs": [],
   "source": [
    "for w in sentence:\n",
    "    token_list.append(tokenizer.word_index[w])"
   ]
  },
  {
   "cell_type": "code",
   "execution_count": 22,
   "id": "65a003d2",
   "metadata": {},
   "outputs": [
    {
     "name": "stdout",
     "output_type": "stream",
     "text": [
      "[4, 2, 66, 8, 67, 68, 69, 70]\n"
     ]
    }
   ],
   "source": [
    "print(token_list)\n"
   ]
  },
  {
   "cell_type": "code",
   "execution_count": null,
   "id": "0b8d42dc",
   "metadata": {},
   "outputs": [],
   "source": []
  },
  {
   "cell_type": "code",
   "execution_count": 28,
   "id": "96aaca53",
   "metadata": {},
   "outputs": [
    {
     "name": "stdout",
     "output_type": "stream",
     "text": [
      "token list: [ 0  0  0  4  2 66  8 67 68 69]\n",
      "decoded to text: ['in the town of athy one jeremy']\n"
     ]
    }
   ],
   "source": [
    "# Pick element\n",
    "elem_number = 6\n",
    "print(f'token list: {xs[elem_number]}')\n",
    "print(f'decoded to text: {tokenizer.sequences_to_texts([xs[elem_number]])}')"
   ]
  },
  {
   "cell_type": "code",
   "execution_count": null,
   "id": "bf354de6",
   "metadata": {},
   "outputs": [],
   "source": []
  },
  {
   "cell_type": "code",
   "execution_count": 29,
   "id": "b8c68d5f",
   "metadata": {},
   "outputs": [
    {
     "name": "stdout",
     "output_type": "stream",
     "text": [
      "70\n"
     ]
    }
   ],
   "source": [
    "#print label \n",
    "#print(ys[elem_number])\n",
    "print(np.argmax(ys[elem_number]))"
   ]
  },
  {
   "cell_type": "code",
   "execution_count": null,
   "id": "ef5ce6f1",
   "metadata": {},
   "outputs": [],
   "source": []
  },
  {
   "cell_type": "code",
   "execution_count": 36,
   "id": "87c76614",
   "metadata": {},
   "outputs": [
    {
     "name": "stdout",
     "output_type": "stream",
     "text": [
      "[ 0  0  0  0  4  2 66  8 67 68]\n",
      "['in the town of athy one']\n"
     ]
    }
   ],
   "source": [
    "elem_number=5\n",
    "print(xs[5])\n",
    "print(tokenizer.sequences_to_texts([xs[elem_number]]))"
   ]
  },
  {
   "cell_type": "code",
   "execution_count": null,
   "id": "c3adc19f",
   "metadata": {},
   "outputs": [],
   "source": []
  },
  {
   "cell_type": "code",
   "execution_count": null,
   "id": "e4689c7c",
   "metadata": {},
   "outputs": [],
   "source": []
  },
  {
   "cell_type": "code",
   "execution_count": null,
   "id": "237c3716",
   "metadata": {},
   "outputs": [],
   "source": []
  },
  {
   "cell_type": "code",
   "execution_count": null,
   "id": "f6d6fa4c",
   "metadata": {},
   "outputs": [],
   "source": []
  },
  {
   "cell_type": "code",
   "execution_count": null,
   "id": "8880416a",
   "metadata": {},
   "outputs": [],
   "source": []
  },
  {
   "cell_type": "code",
   "execution_count": null,
   "id": "e30534fd",
   "metadata": {},
   "outputs": [],
   "source": []
  },
  {
   "cell_type": "code",
   "execution_count": null,
   "id": "b2229305",
   "metadata": {},
   "outputs": [],
   "source": []
  },
  {
   "cell_type": "code",
   "execution_count": null,
   "id": "3d6b295c",
   "metadata": {},
   "outputs": [],
   "source": []
  },
  {
   "cell_type": "code",
   "execution_count": null,
   "id": "0dbb6997",
   "metadata": {},
   "outputs": [],
   "source": []
  },
  {
   "cell_type": "code",
   "execution_count": null,
   "id": "8757d0c6",
   "metadata": {},
   "outputs": [],
   "source": []
  },
  {
   "cell_type": "code",
   "execution_count": null,
   "id": "3a7c6106",
   "metadata": {},
   "outputs": [],
   "source": []
  },
  {
   "cell_type": "code",
   "execution_count": null,
   "id": "aff25990",
   "metadata": {},
   "outputs": [],
   "source": []
  },
  {
   "cell_type": "code",
   "execution_count": null,
   "id": "2c39bd2f",
   "metadata": {},
   "outputs": [],
   "source": []
  },
  {
   "cell_type": "code",
   "execution_count": null,
   "id": "74610a3c",
   "metadata": {},
   "outputs": [],
   "source": []
  },
  {
   "cell_type": "code",
   "execution_count": null,
   "id": "0b5999bc",
   "metadata": {},
   "outputs": [],
   "source": []
  },
  {
   "cell_type": "code",
   "execution_count": null,
   "id": "b5abf73d",
   "metadata": {},
   "outputs": [],
   "source": []
  },
  {
   "cell_type": "code",
   "execution_count": null,
   "id": "3de1524f",
   "metadata": {},
   "outputs": [],
   "source": []
  },
  {
   "cell_type": "code",
   "execution_count": null,
   "id": "4dee192c",
   "metadata": {},
   "outputs": [],
   "source": []
  },
  {
   "cell_type": "code",
   "execution_count": null,
   "id": "5a168dca",
   "metadata": {},
   "outputs": [],
   "source": []
  },
  {
   "cell_type": "code",
   "execution_count": null,
   "id": "78cd3121",
   "metadata": {},
   "outputs": [],
   "source": []
  },
  {
   "cell_type": "code",
   "execution_count": null,
   "id": "30bcb366",
   "metadata": {},
   "outputs": [],
   "source": []
  },
  {
   "cell_type": "code",
   "execution_count": null,
   "id": "1f34a29f",
   "metadata": {},
   "outputs": [],
   "source": []
  },
  {
   "cell_type": "code",
   "execution_count": null,
   "id": "823fbcd7",
   "metadata": {},
   "outputs": [],
   "source": []
  },
  {
   "cell_type": "code",
   "execution_count": null,
   "id": "619424ed",
   "metadata": {},
   "outputs": [],
   "source": []
  },
  {
   "cell_type": "code",
   "execution_count": null,
   "id": "414cf8de",
   "metadata": {},
   "outputs": [],
   "source": []
  },
  {
   "cell_type": "code",
   "execution_count": null,
   "id": "74226f18",
   "metadata": {},
   "outputs": [],
   "source": []
  },
  {
   "cell_type": "code",
   "execution_count": null,
   "id": "4aeda8d6",
   "metadata": {},
   "outputs": [],
   "source": []
  },
  {
   "cell_type": "code",
   "execution_count": null,
   "id": "bea60206",
   "metadata": {},
   "outputs": [],
   "source": []
  },
  {
   "cell_type": "code",
   "execution_count": null,
   "id": "9d482d87",
   "metadata": {},
   "outputs": [],
   "source": []
  },
  {
   "cell_type": "code",
   "execution_count": null,
   "id": "dd7b79b2",
   "metadata": {},
   "outputs": [],
   "source": []
  },
  {
   "cell_type": "code",
   "execution_count": null,
   "id": "6fb94b9c",
   "metadata": {},
   "outputs": [],
   "source": []
  },
  {
   "cell_type": "code",
   "execution_count": null,
   "id": "3da1dcf3",
   "metadata": {},
   "outputs": [],
   "source": []
  },
  {
   "cell_type": "code",
   "execution_count": null,
   "id": "fc2e1c7d",
   "metadata": {},
   "outputs": [],
   "source": []
  },
  {
   "cell_type": "code",
   "execution_count": null,
   "id": "dd446d53",
   "metadata": {},
   "outputs": [],
   "source": []
  },
  {
   "cell_type": "code",
   "execution_count": null,
   "id": "7106d669",
   "metadata": {},
   "outputs": [],
   "source": []
  },
  {
   "cell_type": "code",
   "execution_count": null,
   "id": "420b0d23",
   "metadata": {},
   "outputs": [],
   "source": []
  },
  {
   "cell_type": "code",
   "execution_count": null,
   "id": "9b97e3ca",
   "metadata": {},
   "outputs": [],
   "source": []
  },
  {
   "cell_type": "code",
   "execution_count": null,
   "id": "b767f1f5",
   "metadata": {},
   "outputs": [],
   "source": []
  },
  {
   "cell_type": "code",
   "execution_count": null,
   "id": "40de4e63",
   "metadata": {},
   "outputs": [],
   "source": []
  },
  {
   "cell_type": "code",
   "execution_count": null,
   "id": "8abf8698",
   "metadata": {},
   "outputs": [],
   "source": []
  },
  {
   "cell_type": "code",
   "execution_count": null,
   "id": "da6d6aef",
   "metadata": {},
   "outputs": [],
   "source": []
  },
  {
   "cell_type": "code",
   "execution_count": null,
   "id": "27d90f8c",
   "metadata": {},
   "outputs": [],
   "source": []
  },
  {
   "cell_type": "code",
   "execution_count": null,
   "id": "b2a1b267",
   "metadata": {},
   "outputs": [],
   "source": []
  },
  {
   "cell_type": "code",
   "execution_count": null,
   "id": "0bde2879",
   "metadata": {},
   "outputs": [],
   "source": []
  }
 ],
 "metadata": {
  "kernelspec": {
   "display_name": "Python 3 (ipykernel)",
   "language": "python",
   "name": "python3"
  },
  "language_info": {
   "codemirror_mode": {
    "name": "ipython",
    "version": 3
   },
   "file_extension": ".py",
   "mimetype": "text/x-python",
   "name": "python",
   "nbconvert_exporter": "python",
   "pygments_lexer": "ipython3",
   "version": "3.9.13"
  }
 },
 "nbformat": 4,
 "nbformat_minor": 5
}
