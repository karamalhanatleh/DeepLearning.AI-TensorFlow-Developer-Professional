{
 "cells": [
  {
   "cell_type": "markdown",
   "id": "ef5cd602",
   "metadata": {},
   "source": [
    "# Ungraded Lab: Tokenizer Basics"
   ]
  },
  {
   "cell_type": "code",
   "execution_count": 1,
   "id": "f70da4f5",
   "metadata": {},
   "outputs": [],
   "source": [
    "#import paskages \n",
    "from tensorflow.keras.preprocessing.text import Tokenizer"
   ]
  },
  {
   "cell_type": "code",
   "execution_count": null,
   "id": "fa656f43",
   "metadata": {},
   "outputs": [],
   "source": []
  },
  {
   "cell_type": "markdown",
   "id": "3a43f5eb",
   "metadata": {},
   "source": [
    "###### More frequent words have a lower index."
   ]
  },
  {
   "cell_type": "code",
   "execution_count": null,
   "id": "ae7ece6d",
   "metadata": {},
   "outputs": [],
   "source": []
  },
  {
   "cell_type": "code",
   "execution_count": 2,
   "id": "bdf304c1",
   "metadata": {},
   "outputs": [],
   "source": [
    "# Define input sentences\n",
    "sentences = [\n",
    "    'i love my dog',\n",
    "    'I, love my cat'\n",
    "    ]\n"
   ]
  },
  {
   "cell_type": "code",
   "execution_count": 3,
   "id": "e724e144",
   "metadata": {},
   "outputs": [
    {
     "name": "stdout",
     "output_type": "stream",
     "text": [
      "{'i': 1, 'love': 2, 'my': 3, 'dog': 4, 'cat': 5}\n"
     ]
    }
   ],
   "source": [
    "# Initialize the Tokenizer class\n",
    "tokenizer = Tokenizer(num_words=100)\n",
    "\n",
    "tokenizer.fit_on_texts(sentences)\n",
    "\n",
    "word_index = tokenizer.word_index\n",
    "print(word_index)"
   ]
  },
  {
   "cell_type": "code",
   "execution_count": null,
   "id": "8f6392b1",
   "metadata": {},
   "outputs": [],
   "source": []
  },
  {
   "cell_type": "markdown",
   "id": "d099d237",
   "metadata": {},
   "source": [
    "The num_words parameter used in the initializer specifies the maximum number of words minus one (based on frequency) to keep when generating "
   ]
  },
  {
   "cell_type": "code",
   "execution_count": null,
   "id": "11e247f2",
   "metadata": {},
   "outputs": [],
   "source": []
  },
  {
   "cell_type": "code",
   "execution_count": 5,
   "id": "b2b3570f",
   "metadata": {},
   "outputs": [
    {
     "name": "stdout",
     "output_type": "stream",
     "text": [
      "{'love': 1, 'my': 2, 'i': 3, 'dog': 4, 'cat': 5, 'you': 6}\n"
     ]
    }
   ],
   "source": [
    "sentences = [\n",
    "    'i love my dog',\n",
    "    'I, love my cat',\n",
    "    'You love my dog!'\n",
    "]\n",
    "\n",
    "# Initialize the Tokenizer class\n",
    "tokenizer = Tokenizer(num_words = 1)\n",
    "\n",
    "# Generate indices for each word in the corpus\n",
    "tokenizer.fit_on_texts(sentences)\n",
    "\n",
    "# Get the indices and print it\n",
    "word_index = tokenizer.word_index\n",
    "print(word_index)"
   ]
  },
  {
   "cell_type": "code",
   "execution_count": null,
   "id": "25967eab",
   "metadata": {},
   "outputs": [],
   "source": []
  }
 ],
 "metadata": {
  "kernelspec": {
   "display_name": "Python 3 (ipykernel)",
   "language": "python",
   "name": "python3"
  },
  "language_info": {
   "codemirror_mode": {
    "name": "ipython",
    "version": 3
   },
   "file_extension": ".py",
   "mimetype": "text/x-python",
   "name": "python",
   "nbconvert_exporter": "python",
   "pygments_lexer": "ipython3",
   "version": "3.9.13"
  }
 },
 "nbformat": 4,
 "nbformat_minor": 5
}
