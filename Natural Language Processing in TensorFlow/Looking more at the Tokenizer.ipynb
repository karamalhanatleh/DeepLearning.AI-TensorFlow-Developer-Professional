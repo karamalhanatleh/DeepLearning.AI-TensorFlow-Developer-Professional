{
 "cells": [
  {
   "cell_type": "markdown",
   "id": "bceda811",
   "metadata": {},
   "source": [
    "# Looking more at the Tokenizer\n"
   ]
  },
  {
   "cell_type": "code",
   "execution_count": 1,
   "id": "178c0523",
   "metadata": {},
   "outputs": [],
   "source": [
    "#Import paskages\n",
    "from tensorflow.keras.preprocessing.text import Tokenizer"
   ]
  },
  {
   "cell_type": "code",
   "execution_count": 2,
   "id": "1e56c15f",
   "metadata": {},
   "outputs": [],
   "source": [
    "#example text\n",
    "sentences= [\n",
    "    'I love my dog',\n",
    "    'I love my cat',\n",
    "    \"You love my dog!\",\n",
    "    'Do you think my dog is amazing?'\n",
    "    \n",
    "]"
   ]
  },
  {
   "cell_type": "code",
   "execution_count": 3,
   "id": "4c662aa2",
   "metadata": {},
   "outputs": [
    {
     "name": "stdout",
     "output_type": "stream",
     "text": [
      "{'<OOV>': 1, 'my': 2, 'love': 3, 'dog': 4, 'i': 5, 'you': 6, 'cat': 7, 'do': 8, 'think': 9, 'is': 10, 'amazing': 11}\n"
     ]
    }
   ],
   "source": [
    "tokenizer = Tokenizer(num_words=100 ,oov_token=\"<OOV>\")\n",
    "tokenizer.fit_on_texts(sentences)\n",
    "word_index = tokenizer.word_index\n",
    "print(word_index)"
   ]
  },
  {
   "cell_type": "code",
   "execution_count": 4,
   "id": "92f2e82d",
   "metadata": {},
   "outputs": [
    {
     "data": {
      "text/plain": [
       "[[5, 3, 2, 4], [5, 3, 2, 7], [6, 3, 2, 4], [8, 6, 9, 2, 4, 10, 11]]"
      ]
     },
     "execution_count": 4,
     "metadata": {},
     "output_type": "execute_result"
    }
   ],
   "source": [
    "sequence = tokenizer.texts_to_sequences(sentences)\n",
    "sequence"
   ]
  },
  {
   "cell_type": "code",
   "execution_count": null,
   "id": "a6df2889",
   "metadata": {},
   "outputs": [],
   "source": []
  },
  {
   "cell_type": "code",
   "execution_count": 5,
   "id": "e169df26",
   "metadata": {},
   "outputs": [],
   "source": [
    "test_data=[\n",
    "    'i really love my dog',\n",
    "    'my dog loves my manatee'    \n",
    "]"
   ]
  },
  {
   "cell_type": "code",
   "execution_count": 6,
   "id": "ee53479d",
   "metadata": {},
   "outputs": [
    {
     "data": {
      "text/plain": [
       "[[5, 1, 3, 2, 4], [2, 4, 1, 2, 1]]"
      ]
     },
     "execution_count": 6,
     "metadata": {},
     "output_type": "execute_result"
    }
   ],
   "source": [
    "test_seq = tokenizer.texts_to_sequences(test_data)\n",
    "test_seq"
   ]
  },
  {
   "cell_type": "code",
   "execution_count": 21,
   "id": "b8d25554",
   "metadata": {},
   "outputs": [
    {
     "name": "stdout",
     "output_type": "stream",
     "text": [
      "{'my': 1, 'love': 2, 'dog': 3, 'i': 4, 'you': 5, 'cat': 6, 'do': 7, 'think': 8, 'is': 9, 'amazing': 10}\n"
     ]
    }
   ],
   "source": [
    "print(word_index)"
   ]
  },
  {
   "cell_type": "code",
   "execution_count": null,
   "id": "1f64576f",
   "metadata": {},
   "outputs": [],
   "source": []
  },
  {
   "cell_type": "code",
   "execution_count": null,
   "id": "72d65ddd",
   "metadata": {},
   "outputs": [],
   "source": []
  },
  {
   "cell_type": "code",
   "execution_count": 23,
   "id": "6d8dfe70",
   "metadata": {},
   "outputs": [],
   "source": [
    "########################################"
   ]
  },
  {
   "cell_type": "markdown",
   "id": "d570a002",
   "metadata": {},
   "source": [
    "# train "
   ]
  },
  {
   "cell_type": "code",
   "execution_count": 8,
   "id": "fe47c15b",
   "metadata": {},
   "outputs": [],
   "source": [
    "sen = ['hello my friend man',\n",
    "      'hello my brother',\n",
    "      'hello man',\n",
    "      'hello how are you man'   ]"
   ]
  },
  {
   "cell_type": "code",
   "execution_count": 9,
   "id": "51b4084d",
   "metadata": {},
   "outputs": [
    {
     "name": "stdout",
     "output_type": "stream",
     "text": [
      "{'<OOV>': 1, 'hello': 2, 'man': 3, 'my': 4, 'friend': 5, 'brother': 6, 'how': 7, 'are': 8, 'you': 9}\n"
     ]
    }
   ],
   "source": [
    "tok=Tokenizer(num_words=100,oov_token=\"<OOV>\")\n",
    "tok.fit_on_texts(sen)\n",
    "wo_in = tok.word_index\n",
    "print(wo_in)"
   ]
  },
  {
   "cell_type": "code",
   "execution_count": 10,
   "id": "bfa1e849",
   "metadata": {},
   "outputs": [
    {
     "data": {
      "text/plain": [
       "[[2, 4, 5, 3], [2, 4, 6], [2, 3], [2, 7, 8, 9, 3]]"
      ]
     },
     "execution_count": 10,
     "metadata": {},
     "output_type": "execute_result"
    }
   ],
   "source": [
    "txt_seq = tok.texts_to_sequences(sen)\n",
    "txt_seq"
   ]
  },
  {
   "cell_type": "code",
   "execution_count": 11,
   "id": "36c9805d",
   "metadata": {},
   "outputs": [],
   "source": [
    "test_text = ['hello dog man',\n",
    "            'my cat']"
   ]
  },
  {
   "cell_type": "code",
   "execution_count": 12,
   "id": "a4b17a40",
   "metadata": {},
   "outputs": [
    {
     "data": {
      "text/plain": [
       "[[2, 1, 3], [4, 1]]"
      ]
     },
     "execution_count": 12,
     "metadata": {},
     "output_type": "execute_result"
    }
   ],
   "source": [
    "tt= tok.texts_to_sequences(test_text)\n",
    "tt"
   ]
  },
  {
   "cell_type": "code",
   "execution_count": null,
   "id": "15c03e45",
   "metadata": {},
   "outputs": [],
   "source": []
  },
  {
   "cell_type": "code",
   "execution_count": null,
   "id": "308ca2bb",
   "metadata": {},
   "outputs": [],
   "source": []
  }
 ],
 "metadata": {
  "kernelspec": {
   "display_name": "Python 3 (ipykernel)",
   "language": "python",
   "name": "python3"
  },
  "language_info": {
   "codemirror_mode": {
    "name": "ipython",
    "version": 3
   },
   "file_extension": ".py",
   "mimetype": "text/x-python",
   "name": "python",
   "nbconvert_exporter": "python",
   "pygments_lexer": "ipython3",
   "version": "3.9.13"
  }
 },
 "nbformat": 4,
 "nbformat_minor": 5
}
