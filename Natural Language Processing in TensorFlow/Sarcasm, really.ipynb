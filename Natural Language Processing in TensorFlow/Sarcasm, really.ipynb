{
 "cells": [
  {
   "cell_type": "markdown",
   "id": "b3801838",
   "metadata": {},
   "source": [
    "# Sarcasm, really?\n"
   ]
  },
  {
   "cell_type": "code",
   "execution_count": 1,
   "id": "6eba3b3d",
   "metadata": {},
   "outputs": [],
   "source": [
    "#import paskages\n",
    "import json"
   ]
  },
  {
   "cell_type": "code",
   "execution_count": 3,
   "id": "a925060b",
   "metadata": {},
   "outputs": [],
   "source": [
    "with open(\"data/sarcasm.json\",'r') as f:\n",
    "    datastore = json.load(f)"
   ]
  },
  {
   "cell_type": "code",
   "execution_count": 4,
   "id": "5e0e452a",
   "metadata": {},
   "outputs": [],
   "source": [
    "sentences = []\n",
    "labels = []\n",
    "urls = []\n"
   ]
  },
  {
   "cell_type": "code",
   "execution_count": 7,
   "id": "b1e480bb",
   "metadata": {},
   "outputs": [],
   "source": [
    "for item in datastore:\n",
    "    sentences.append(item['headline'])\n",
    "    labels.append(item['is_sarcastic'])\n",
    "    urls.append(item['article_link'])"
   ]
  },
  {
   "cell_type": "code",
   "execution_count": null,
   "id": "3bf35e84",
   "metadata": {},
   "outputs": [],
   "source": []
  }
 ],
 "metadata": {
  "kernelspec": {
   "display_name": "Python 3 (ipykernel)",
   "language": "python",
   "name": "python3"
  },
  "language_info": {
   "codemirror_mode": {
    "name": "ipython",
    "version": 3
   },
   "file_extension": ".py",
   "mimetype": "text/x-python",
   "name": "python",
   "nbconvert_exporter": "python",
   "pygments_lexer": "ipython3",
   "version": "3.9.13"
  }
 },
 "nbformat": 4,
 "nbformat_minor": 5
}
