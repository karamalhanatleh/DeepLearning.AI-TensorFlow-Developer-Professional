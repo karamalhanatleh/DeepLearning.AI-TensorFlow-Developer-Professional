{
 "cells": [
  {
   "cell_type": "markdown",
   "id": "46beb9a5",
   "metadata": {},
   "source": [
    "# Ungraded Lab: Training a binary classifier with the Sarcasm Dataset"
   ]
  },
  {
   "cell_type": "code",
   "execution_count": 30,
   "id": "2424b788",
   "metadata": {},
   "outputs": [],
   "source": [
    "#import paskages\n",
    "import numpy as np\n",
    "import matplotlib.pyplot as plt\n",
    "\n",
    "\n",
    "import json\n",
    "import tensorflow as tf\n",
    "\n",
    "from tensorflow.keras.preprocessing.text import Tokenizer\n",
    "from tensorflow.keras.preprocessing.sequence import pad_sequences"
   ]
  },
  {
   "cell_type": "code",
   "execution_count": 4,
   "id": "ad58c6c8",
   "metadata": {},
   "outputs": [],
   "source": [
    "#Load Data \n",
    "with open(\"sarcasm.json\", 'r') as f:\n",
    "    datastore = json.load(f)"
   ]
  },
  {
   "cell_type": "code",
   "execution_count": 31,
   "id": "0c9360c0",
   "metadata": {},
   "outputs": [],
   "source": [
    "sentences = []\n",
    "labels = []"
   ]
  },
  {
   "cell_type": "code",
   "execution_count": 32,
   "id": "8178ba77",
   "metadata": {},
   "outputs": [],
   "source": [
    "# Collect sentences and labels into the lists\n",
    "for item in datastore:\n",
    "    sentences.append(item['headline'])\n",
    "    labels.append(item['is_sarcastic'])"
   ]
  },
  {
   "cell_type": "code",
   "execution_count": 33,
   "id": "737a3b5e",
   "metadata": {},
   "outputs": [],
   "source": [
    "training_size = 20000\n",
    "vocab_size = 10000\n",
    "max_length = 32\n",
    "embedding_dim = 16"
   ]
  },
  {
   "cell_type": "code",
   "execution_count": 34,
   "id": "502c7777",
   "metadata": {},
   "outputs": [],
   "source": [
    "training_sentences = sentences[0:training_size]\n",
    "testing_sentences = sentences[training_size:]\n",
    "\n",
    "# Split the labels\n",
    "training_labels = labels[0:training_size]\n",
    "testing_labels = labels[training_size:]"
   ]
  },
  {
   "cell_type": "code",
   "execution_count": null,
   "id": "6e7836ef",
   "metadata": {},
   "outputs": [],
   "source": []
  },
  {
   "cell_type": "markdown",
   "id": "c3e3c0fc",
   "metadata": {},
   "source": [
    "### Preprocessing the train and test sets\n"
   ]
  },
  {
   "cell_type": "code",
   "execution_count": 35,
   "id": "28900711",
   "metadata": {},
   "outputs": [],
   "source": [
    "trunc_type='post'\n",
    "padding_type='post'\n",
    "oov_tok = \"<OOV>\""
   ]
  },
  {
   "cell_type": "code",
   "execution_count": 36,
   "id": "b6a9f4b2",
   "metadata": {},
   "outputs": [],
   "source": [
    "tokenizer = Tokenizer(num_words=vocab_size, oov_token=oov_tok)\n",
    "tokenizer.fit_on_texts(training_sentences)\n",
    "word_index = tokenizer.word_index"
   ]
  },
  {
   "cell_type": "code",
   "execution_count": 37,
   "id": "6a0c638b",
   "metadata": {},
   "outputs": [],
   "source": [
    "training_sequences = tokenizer.texts_to_sequences(training_sentences)\n",
    "training_padded = pad_sequences(training_sequences, maxlen=max_length, padding=padding_type, truncating=trunc_type)"
   ]
  },
  {
   "cell_type": "code",
   "execution_count": 38,
   "id": "572a9bd2",
   "metadata": {},
   "outputs": [],
   "source": [
    "testing_sequences = tokenizer.texts_to_sequences(testing_sentences)\n",
    "testing_padded = pad_sequences(testing_sequences, maxlen=max_length, padding=padding_type, truncating=trunc_type)\n"
   ]
  },
  {
   "cell_type": "code",
   "execution_count": 39,
   "id": "5a65f949",
   "metadata": {},
   "outputs": [],
   "source": [
    "# Convert the labels lists into numpy arrays\n",
    "training_labels = np.array(training_labels)\n",
    "testing_labels = np.array(testing_labels)"
   ]
  },
  {
   "cell_type": "code",
   "execution_count": null,
   "id": "253e3d77",
   "metadata": {},
   "outputs": [],
   "source": []
  },
  {
   "cell_type": "code",
   "execution_count": null,
   "id": "7397ecc8",
   "metadata": {},
   "outputs": [],
   "source": []
  },
  {
   "cell_type": "markdown",
   "id": "8bd3266b",
   "metadata": {},
   "source": [
    "### Build and Compile the Model"
   ]
  },
  {
   "cell_type": "code",
   "execution_count": 40,
   "id": "6e2f171d",
   "metadata": {},
   "outputs": [
    {
     "name": "stdout",
     "output_type": "stream",
     "text": [
      "shape of sample_array = (1, 3, 2)\n",
      "sample array:\n",
      " [[[10  2]\n",
      "  [ 1  3]\n",
      "  [ 1  1]]]\n",
      "output shape of gap1d_layer: (1, 2)\n",
      "output array of gap1d_layer:\n",
      " [[4 2]]\n"
     ]
    }
   ],
   "source": [
    "# Initialize a GlobalAveragePooling1D (GAP1D) layer\n",
    "gap1d_layer = tf.keras.layers.GlobalAveragePooling1D()\n",
    "\n",
    "# Define sample array\n",
    "sample_array = np.array([[[10,2],[1,3],[1,1]]])\n",
    "\n",
    "# Print shape and contents of sample array\n",
    "print(f'shape of sample_array = {sample_array.shape}')\n",
    "print(f'sample array:\\n {sample_array}')\n",
    "\n",
    "# Pass the sample array to the GAP1D layer\n",
    "output = gap1d_layer(sample_array)\n",
    "\n",
    "# Print shape and contents of the GAP1D output array\n",
    "print(f'output shape of gap1d_layer: {output.shape}')\n",
    "print(f'output array of gap1d_layer:\\n {output.numpy()}')"
   ]
  },
  {
   "cell_type": "code",
   "execution_count": 41,
   "id": "45f0b85c",
   "metadata": {},
   "outputs": [],
   "source": [
    "# Build the model\n",
    "model = tf.keras.Sequential([\n",
    "    tf.keras.layers.Embedding(vocab_size, embedding_dim, input_length=max_length),\n",
    "    tf.keras.layers.GlobalAveragePooling1D(),\n",
    "    tf.keras.layers.Dense(24, activation='relu'),\n",
    "    tf.keras.layers.Dense(1, activation='sigmoid')\n",
    "])\n",
    "\n",
    "model.compile(loss='binary_crossentropy',optimizer='adam',metrics=['accuracy'])\n"
   ]
  },
  {
   "cell_type": "code",
   "execution_count": 42,
   "id": "ba15d9a5",
   "metadata": {},
   "outputs": [
    {
     "name": "stdout",
     "output_type": "stream",
     "text": [
      "Model: \"sequential_1\"\n",
      "_________________________________________________________________\n",
      " Layer (type)                Output Shape              Param #   \n",
      "=================================================================\n",
      " embedding_1 (Embedding)     (None, 32, 16)            160000    \n",
      "                                                                 \n",
      " global_average_pooling1d_3  (None, 16)                0         \n",
      "  (GlobalAveragePooling1D)                                       \n",
      "                                                                 \n",
      " dense_2 (Dense)             (None, 24)                408       \n",
      "                                                                 \n",
      " dense_3 (Dense)             (None, 1)                 25        \n",
      "                                                                 \n",
      "=================================================================\n",
      "Total params: 160433 (626.69 KB)\n",
      "Trainable params: 160433 (626.69 KB)\n",
      "Non-trainable params: 0 (0.00 Byte)\n",
      "_________________________________________________________________\n"
     ]
    }
   ],
   "source": [
    "model.summary()\n",
    "\n"
   ]
  },
  {
   "cell_type": "markdown",
   "id": "70beb464",
   "metadata": {},
   "source": [
    "#### Train the Model"
   ]
  },
  {
   "cell_type": "code",
   "execution_count": 43,
   "id": "90ccd75b",
   "metadata": {},
   "outputs": [
    {
     "name": "stdout",
     "output_type": "stream",
     "text": [
      "Epoch 1/30\n",
      "625/625 - 2s - loss: 0.5447 - accuracy: 0.7140 - val_loss: 0.3885 - val_accuracy: 0.8395 - 2s/epoch - 3ms/step\n",
      "Epoch 2/30\n",
      "625/625 - 1s - loss: 0.3043 - accuracy: 0.8773 - val_loss: 0.3444 - val_accuracy: 0.8514 - 1s/epoch - 2ms/step\n",
      "Epoch 3/30\n",
      "625/625 - 1s - loss: 0.2268 - accuracy: 0.9115 - val_loss: 0.3493 - val_accuracy: 0.8544 - 1s/epoch - 2ms/step\n",
      "Epoch 4/30\n",
      "625/625 - 1s - loss: 0.1830 - accuracy: 0.9301 - val_loss: 0.3697 - val_accuracy: 0.8501 - 1s/epoch - 2ms/step\n",
      "Epoch 5/30\n",
      "625/625 - 1s - loss: 0.1516 - accuracy: 0.9439 - val_loss: 0.4020 - val_accuracy: 0.8487 - 1s/epoch - 2ms/step\n",
      "Epoch 6/30\n",
      "625/625 - 1s - loss: 0.1271 - accuracy: 0.9556 - val_loss: 0.4339 - val_accuracy: 0.8463 - 1s/epoch - 2ms/step\n",
      "Epoch 7/30\n",
      "625/625 - 1s - loss: 0.1093 - accuracy: 0.9616 - val_loss: 0.4735 - val_accuracy: 0.8435 - 1s/epoch - 2ms/step\n",
      "Epoch 8/30\n",
      "625/625 - 1s - loss: 0.0945 - accuracy: 0.9683 - val_loss: 0.5264 - val_accuracy: 0.8344 - 1s/epoch - 2ms/step\n",
      "Epoch 9/30\n",
      "625/625 - 1s - loss: 0.0813 - accuracy: 0.9732 - val_loss: 0.5993 - val_accuracy: 0.8284 - 1s/epoch - 2ms/step\n",
      "Epoch 10/30\n",
      "625/625 - 1s - loss: 0.0717 - accuracy: 0.9773 - val_loss: 0.6439 - val_accuracy: 0.8301 - 1s/epoch - 2ms/step\n",
      "Epoch 11/30\n",
      "625/625 - 1s - loss: 0.0625 - accuracy: 0.9795 - val_loss: 0.6866 - val_accuracy: 0.8252 - 1s/epoch - 2ms/step\n",
      "Epoch 12/30\n",
      "625/625 - 1s - loss: 0.0535 - accuracy: 0.9831 - val_loss: 0.7429 - val_accuracy: 0.8211 - 1s/epoch - 2ms/step\n",
      "Epoch 13/30\n",
      "625/625 - 1s - loss: 0.0461 - accuracy: 0.9863 - val_loss: 0.7886 - val_accuracy: 0.8195 - 1s/epoch - 2ms/step\n",
      "Epoch 14/30\n",
      "625/625 - 1s - loss: 0.0422 - accuracy: 0.9871 - val_loss: 0.8494 - val_accuracy: 0.8174 - 1s/epoch - 2ms/step\n",
      "Epoch 15/30\n",
      "625/625 - 1s - loss: 0.0363 - accuracy: 0.9898 - val_loss: 0.9351 - val_accuracy: 0.8164 - 1s/epoch - 2ms/step\n",
      "Epoch 16/30\n",
      "625/625 - 1s - loss: 0.0322 - accuracy: 0.9908 - val_loss: 0.9893 - val_accuracy: 0.8161 - 1s/epoch - 2ms/step\n",
      "Epoch 17/30\n",
      "625/625 - 1s - loss: 0.0287 - accuracy: 0.9920 - val_loss: 1.0608 - val_accuracy: 0.8144 - 1s/epoch - 2ms/step\n",
      "Epoch 18/30\n",
      "625/625 - 1s - loss: 0.0251 - accuracy: 0.9934 - val_loss: 1.1127 - val_accuracy: 0.8144 - 1s/epoch - 2ms/step\n",
      "Epoch 19/30\n",
      "625/625 - 2s - loss: 0.0229 - accuracy: 0.9934 - val_loss: 1.1461 - val_accuracy: 0.8097 - 2s/epoch - 2ms/step\n",
      "Epoch 20/30\n",
      "625/625 - 2s - loss: 0.0204 - accuracy: 0.9948 - val_loss: 1.2141 - val_accuracy: 0.8097 - 2s/epoch - 3ms/step\n",
      "Epoch 21/30\n",
      "625/625 - 2s - loss: 0.0182 - accuracy: 0.9958 - val_loss: 1.3079 - val_accuracy: 0.8089 - 2s/epoch - 3ms/step\n",
      "Epoch 22/30\n",
      "625/625 - 2s - loss: 0.0158 - accuracy: 0.9955 - val_loss: 1.3910 - val_accuracy: 0.8062 - 2s/epoch - 2ms/step\n",
      "Epoch 23/30\n",
      "625/625 - 2s - loss: 0.0158 - accuracy: 0.9955 - val_loss: 1.4711 - val_accuracy: 0.8071 - 2s/epoch - 3ms/step\n",
      "Epoch 24/30\n",
      "625/625 - 2s - loss: 0.0150 - accuracy: 0.9955 - val_loss: 1.4891 - val_accuracy: 0.8058 - 2s/epoch - 2ms/step\n",
      "Epoch 25/30\n",
      "625/625 - 2s - loss: 0.0119 - accuracy: 0.9966 - val_loss: 1.5152 - val_accuracy: 0.8062 - 2s/epoch - 2ms/step\n",
      "Epoch 26/30\n",
      "625/625 - 2s - loss: 0.0106 - accuracy: 0.9974 - val_loss: 1.6609 - val_accuracy: 0.8052 - 2s/epoch - 2ms/step\n",
      "Epoch 27/30\n",
      "625/625 - 2s - loss: 0.0092 - accuracy: 0.9983 - val_loss: 1.6309 - val_accuracy: 0.8055 - 2s/epoch - 3ms/step\n",
      "Epoch 28/30\n",
      "625/625 - 2s - loss: 0.0103 - accuracy: 0.9973 - val_loss: 1.7008 - val_accuracy: 0.8061 - 2s/epoch - 3ms/step\n",
      "Epoch 29/30\n",
      "625/625 - 2s - loss: 0.0098 - accuracy: 0.9975 - val_loss: 1.7554 - val_accuracy: 0.8031 - 2s/epoch - 3ms/step\n",
      "Epoch 30/30\n",
      "625/625 - 2s - loss: 0.0085 - accuracy: 0.9977 - val_loss: 1.8124 - val_accuracy: 0.8041 - 2s/epoch - 2ms/step\n"
     ]
    }
   ],
   "source": [
    "history = model.fit(training_padded, training_labels, epochs=30 , validation_data=(testing_padded, testing_labels), verbose=2)\n"
   ]
  },
  {
   "cell_type": "code",
   "execution_count": null,
   "id": "e187ef59",
   "metadata": {},
   "outputs": [],
   "source": []
  },
  {
   "cell_type": "code",
   "execution_count": 45,
   "id": "25f9437a",
   "metadata": {},
   "outputs": [
    {
     "data": {
      "image/png": "[encoded data removed]",
      "text/plain": [
       "<Figure size 640x480 with 1 Axes>"
      ]
     },
     "metadata": {},
     "output_type": "display_data"
    },
    {
     "data": {
      "image/png": "[encoded data removed]",
      "text/plain": [
       "<Figure size 640x480 with 1 Axes>"
      ]
     },
     "metadata": {},
     "output_type": "display_data"
    }
   ],
   "source": [
    "def plot_graphs(history, st):\n",
    "    plt.plot(history.history[st])\n",
    "    plt.plot(history.history['val_'+st])\n",
    "    plt.xlabel(\"Epochs\")\n",
    "    plt.ylabel(st)\n",
    "    plt.legend([st, 'val_'+st])\n",
    "    plt.show()\n",
    "  \n",
    "#\n",
    "#Plot the accuracy and loss\n",
    "plot_graphs(history, \"accuracy\")\n",
    "plot_graphs(history, \"loss\")"
   ]
  },
  {
   "cell_type": "code",
   "execution_count": null,
   "id": "7ee6bc74",
   "metadata": {},
   "outputs": [],
   "source": []
  }
 ],
 "metadata": {
  "kernelspec": {
   "display_name": "Python 3 (ipykernel)",
   "language": "python",
   "name": "python3"
  },
  "language_info": {
   "codemirror_mode": {
    "name": "ipython",
    "version": 3
   },
   "file_extension": ".py",
   "mimetype": "text/x-python",
   "name": "python",
   "nbconvert_exporter": "python",
   "pygments_lexer": "ipython3",
   "version": "3.9.13"
  }
 },
 "nbformat": 4,
 "nbformat_minor": 5
}
