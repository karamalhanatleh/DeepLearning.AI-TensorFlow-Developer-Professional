{
 "cells": [
  {
   "cell_type": "markdown",
   "id": "72062c97",
   "metadata": {},
   "source": [
    "# Building a classifier for the sarcasm dataset\n"
   ]
  },
  {
   "cell_type": "markdown",
   "id": "93b25802",
   "metadata": {},
   "source": [
    "###### Remember the sarcasm dataset?\n"
   ]
  },
  {
   "cell_type": "code",
   "execution_count": 146,
   "id": "b723cbca",
   "metadata": {},
   "outputs": [],
   "source": [
    "#import paskages \n",
    "import json\n",
    "\n",
    "import numpy as np\n",
    "import matplotlib.pyplot as plt\n",
    "\n",
    "import tensorflow as tf\n",
    "from tensorflow.keras.preprocessing.text import Tokenizer\n",
    "from tensorflow.keras.preprocessing.sequence import pad_sequences"
   ]
  },
  {
   "cell_type": "code",
   "execution_count": null,
   "id": "e76eb6c9",
   "metadata": {},
   "outputs": [],
   "source": []
  },
  {
   "cell_type": "code",
   "execution_count": 128,
   "id": "1f56dd7d",
   "metadata": {},
   "outputs": [],
   "source": [
    "training_size = 20000\n",
    "vocab_size = 10000\n",
    "max_length = 32\n",
    "embedding_dim = 16\n",
    "\n",
    "trunc_type='post'\n",
    "padding_type='post'\n",
    "oov_tok = \"<OOV>\""
   ]
  },
  {
   "cell_type": "code",
   "execution_count": 129,
   "id": "ecae3921",
   "metadata": {},
   "outputs": [],
   "source": [
    "with open(\"sarcasm.json\",'r') as f:\n",
    "    datastore = json.load(f)"
   ]
  },
  {
   "cell_type": "code",
   "execution_count": 130,
   "id": "479dd64b",
   "metadata": {},
   "outputs": [],
   "source": [
    "sentences = []\n",
    "labels = []"
   ]
  },
  {
   "cell_type": "code",
   "execution_count": 131,
   "id": "e0321549",
   "metadata": {},
   "outputs": [],
   "source": [
    "for item in datastore:\n",
    "    sentences.append(item['headline'])\n",
    "    labels.append(item['is_sarcastic'])"
   ]
  },
  {
   "cell_type": "code",
   "execution_count": null,
   "id": "9bc340bc",
   "metadata": {},
   "outputs": [],
   "source": []
  },
  {
   "cell_type": "code",
   "execution_count": 134,
   "id": "df15c247",
   "metadata": {},
   "outputs": [],
   "source": [
    "#############################"
   ]
  },
  {
   "cell_type": "code",
   "execution_count": 135,
   "id": "8fd34853",
   "metadata": {},
   "outputs": [],
   "source": [
    "training_sentences = sentences[0:training_size]\n",
    "testing_sentences = sentences[training_size:]\n",
    "\n",
    "training_labels = labels[0:training_size]\n",
    "testing_labels = labels[training_size:]"
   ]
  },
  {
   "cell_type": "code",
   "execution_count": null,
   "id": "2d1c17f9",
   "metadata": {},
   "outputs": [],
   "source": []
  },
  {
   "cell_type": "code",
   "execution_count": 136,
   "id": "86e4a8f9",
   "metadata": {},
   "outputs": [],
   "source": [
    "tokenizer = Tokenizer(num_words=vocab_size, oov_token=oov_tok)\n",
    "tokenizer.fit_on_texts(training_sentences)"
   ]
  },
  {
   "cell_type": "code",
   "execution_count": 137,
   "id": "e8215fc6",
   "metadata": {},
   "outputs": [],
   "source": [
    "word_index = tokenizer.word_index"
   ]
  },
  {
   "cell_type": "code",
   "execution_count": 138,
   "id": "55c6e8b2",
   "metadata": {},
   "outputs": [],
   "source": [
    "training_sequences = tokenizer.texts_to_sequences(training_sentences)\n",
    "training_padded = pad_sequences(training_sequences, maxlen=max_length, padding=padding_type, truncating=trunc_type)\n"
   ]
  },
  {
   "cell_type": "code",
   "execution_count": 139,
   "id": "821d5f9c",
   "metadata": {},
   "outputs": [],
   "source": [
    "testing_sequences = tokenizer.texts_to_sequences(testing_sentences)\n",
    "testing_padded = pad_sequences(testing_sequences, maxlen=max_length, padding=padding_type, truncating=trunc_type)\n"
   ]
  },
  {
   "cell_type": "code",
   "execution_count": 140,
   "id": "3bcbf2e5",
   "metadata": {},
   "outputs": [],
   "source": [
    "# Convert the labels lists into numpy arrays\n",
    "training_labels = np.array(training_labels)\n",
    "testing_labels = np.array(testing_labels)"
   ]
  },
  {
   "cell_type": "code",
   "execution_count": null,
   "id": "aa22c322",
   "metadata": {},
   "outputs": [],
   "source": []
  },
  {
   "cell_type": "code",
   "execution_count": null,
   "id": "0274a960",
   "metadata": {},
   "outputs": [],
   "source": []
  },
  {
   "cell_type": "code",
   "execution_count": 141,
   "id": "20ea31ab",
   "metadata": {},
   "outputs": [
    {
     "name": "stdout",
     "output_type": "stream",
     "text": [
      "shape of sample_array = (1, 3, 2)\n",
      "sample array :\n",
      " [[[10  2]\n",
      "  [ 1  3]\n",
      "  [ 1  1]]]\n",
      "output shape of gap1d_layer: (1, 2)\n",
      "output array of gap1d_layer:\n",
      " [[4 2]]\n"
     ]
    }
   ],
   "source": [
    "#  GlobalAveragePooling1D \n",
    "gap1d_layer = tf.keras.layers.GlobalAveragePooling1D()\n",
    "sample_array = np.array([[[10,2],[1,3],[1,1]]])\n",
    "# Print shape and contents of sample array\n",
    "print(f'shape of sample_array = {sample_array.shape}')\n",
    "print(f'sample array :\\n {sample_array}')\n",
    "\n",
    "\n",
    "# Pass the sample array to the GAP1D layer\n",
    "output = gap1d_layer(sample_array)\n",
    "# Print shape and contents of the GAP1D output array\n",
    "print(f'output shape of gap1d_layer: {output.shape}')\n",
    "print(f'output array of gap1d_layer:\\n {output.numpy()}')\n"
   ]
  },
  {
   "cell_type": "code",
   "execution_count": 142,
   "id": "2abc4c77",
   "metadata": {},
   "outputs": [],
   "source": [
    "model = tf.keras.Sequential([\n",
    "    tf.keras.layers.Embedding(vocab_size, embedding_dim, input_length=max_length),\n",
    "    tf.keras.layers.GlobalAveragePooling1D(),\n",
    "    tf.keras.layers.Dense(24, activation='relu'),\n",
    "    tf.keras.layers.Dense(1, activation='sigmoid')\n",
    "])\n",
    "model.compile(loss='binary_crossentropy',optimizer='adam',metrics=['accuracy'])"
   ]
  },
  {
   "cell_type": "code",
   "execution_count": 143,
   "id": "1ce56711",
   "metadata": {},
   "outputs": [
    {
     "name": "stdout",
     "output_type": "stream",
     "text": [
      "Model: \"sequential_7\"\n",
      "_________________________________________________________________\n",
      " Layer (type)                Output Shape              Param #   \n",
      "=================================================================\n",
      " embedding_7 (Embedding)     (None, 32, 16)            160000    \n",
      "                                                                 \n",
      " global_average_pooling1d_1  (None, 16)                0         \n",
      " 6 (GlobalAveragePooling1D)                                      \n",
      "                                                                 \n",
      " dense_14 (Dense)            (None, 24)                408       \n",
      "                                                                 \n",
      " dense_15 (Dense)            (None, 1)                 25        \n",
      "                                                                 \n",
      "=================================================================\n",
      "Total params: 160433 (626.69 KB)\n",
      "Trainable params: 160433 (626.69 KB)\n",
      "Non-trainable params: 0 (0.00 Byte)\n",
      "_________________________________________________________________\n"
     ]
    }
   ],
   "source": [
    "model.summary()"
   ]
  },
  {
   "cell_type": "code",
   "execution_count": 144,
   "id": "83c379b2",
   "metadata": {},
   "outputs": [
    {
     "name": "stdout",
     "output_type": "stream",
     "text": [
      "Epoch 1/30\n",
      "625/625 - 2s - loss: 0.5707 - accuracy: 0.6957 - val_loss: 0.4011 - val_accuracy: 0.8340 - 2s/epoch - 3ms/step\n",
      "Epoch 2/30\n",
      "625/625 - 2s - loss: 0.3153 - accuracy: 0.8731 - val_loss: 0.3438 - val_accuracy: 0.8551 - 2s/epoch - 2ms/step\n",
      "Epoch 3/30\n",
      "625/625 - 1s - loss: 0.2374 - accuracy: 0.9072 - val_loss: 0.3673 - val_accuracy: 0.8420 - 1s/epoch - 2ms/step\n",
      "Epoch 4/30\n",
      "625/625 - 1s - loss: 0.1932 - accuracy: 0.9251 - val_loss: 0.3560 - val_accuracy: 0.8547 - 1s/epoch - 2ms/step\n",
      "Epoch 5/30\n",
      "625/625 - 1s - loss: 0.1623 - accuracy: 0.9398 - val_loss: 0.3919 - val_accuracy: 0.8442 - 1s/epoch - 2ms/step\n",
      "Epoch 6/30\n",
      "625/625 - 2s - loss: 0.1364 - accuracy: 0.9514 - val_loss: 0.4113 - val_accuracy: 0.8480 - 2s/epoch - 2ms/step\n",
      "Epoch 7/30\n",
      "625/625 - 2s - loss: 0.1175 - accuracy: 0.9581 - val_loss: 0.4487 - val_accuracy: 0.8454 - 2s/epoch - 2ms/step\n",
      "Epoch 8/30\n",
      "625/625 - 1s - loss: 0.1015 - accuracy: 0.9646 - val_loss: 0.4930 - val_accuracy: 0.8399 - 1s/epoch - 2ms/step\n",
      "Epoch 9/30\n",
      "625/625 - 1s - loss: 0.0875 - accuracy: 0.9711 - val_loss: 0.5302 - val_accuracy: 0.8380 - 1s/epoch - 2ms/step\n",
      "Epoch 10/30\n",
      "625/625 - 1s - loss: 0.0771 - accuracy: 0.9753 - val_loss: 0.5793 - val_accuracy: 0.8354 - 1s/epoch - 2ms/step\n",
      "Epoch 11/30\n",
      "625/625 - 1s - loss: 0.0681 - accuracy: 0.9775 - val_loss: 0.6355 - val_accuracy: 0.8302 - 1s/epoch - 2ms/step\n",
      "Epoch 12/30\n",
      "625/625 - 1s - loss: 0.0593 - accuracy: 0.9819 - val_loss: 0.6779 - val_accuracy: 0.8264 - 1s/epoch - 2ms/step\n",
      "Epoch 13/30\n",
      "625/625 - 2s - loss: 0.0525 - accuracy: 0.9841 - val_loss: 0.7365 - val_accuracy: 0.8261 - 2s/epoch - 3ms/step\n",
      "Epoch 14/30\n",
      "625/625 - 2s - loss: 0.0459 - accuracy: 0.9863 - val_loss: 0.7929 - val_accuracy: 0.8195 - 2s/epoch - 3ms/step\n",
      "Epoch 15/30\n",
      "625/625 - 2s - loss: 0.0406 - accuracy: 0.9879 - val_loss: 0.8586 - val_accuracy: 0.8189 - 2s/epoch - 3ms/step\n",
      "Epoch 16/30\n",
      "625/625 - 2s - loss: 0.0355 - accuracy: 0.9901 - val_loss: 0.9085 - val_accuracy: 0.8156 - 2s/epoch - 3ms/step\n",
      "Epoch 17/30\n",
      "625/625 - 2s - loss: 0.0306 - accuracy: 0.9915 - val_loss: 0.9626 - val_accuracy: 0.8152 - 2s/epoch - 3ms/step\n",
      "Epoch 18/30\n",
      "625/625 - 2s - loss: 0.0280 - accuracy: 0.9921 - val_loss: 1.0127 - val_accuracy: 0.8131 - 2s/epoch - 3ms/step\n",
      "Epoch 19/30\n",
      "625/625 - 2s - loss: 0.0243 - accuracy: 0.9937 - val_loss: 1.0738 - val_accuracy: 0.8123 - 2s/epoch - 3ms/step\n",
      "Epoch 20/30\n",
      "625/625 - 2s - loss: 0.0230 - accuracy: 0.9937 - val_loss: 1.1287 - val_accuracy: 0.8098 - 2s/epoch - 3ms/step\n",
      "Epoch 21/30\n",
      "625/625 - 2s - loss: 0.0196 - accuracy: 0.9945 - val_loss: 1.1796 - val_accuracy: 0.8111 - 2s/epoch - 3ms/step\n",
      "Epoch 22/30\n",
      "625/625 - 2s - loss: 0.0176 - accuracy: 0.9955 - val_loss: 1.2701 - val_accuracy: 0.8043 - 2s/epoch - 3ms/step\n",
      "Epoch 23/30\n",
      "625/625 - 2s - loss: 0.0157 - accuracy: 0.9959 - val_loss: 1.3038 - val_accuracy: 0.8079 - 2s/epoch - 3ms/step\n",
      "Epoch 24/30\n",
      "625/625 - 2s - loss: 0.0148 - accuracy: 0.9957 - val_loss: 1.3850 - val_accuracy: 0.8053 - 2s/epoch - 3ms/step\n",
      "Epoch 25/30\n",
      "625/625 - 2s - loss: 0.0131 - accuracy: 0.9965 - val_loss: 1.4551 - val_accuracy: 0.8092 - 2s/epoch - 3ms/step\n",
      "Epoch 26/30\n",
      "625/625 - 2s - loss: 0.0116 - accuracy: 0.9968 - val_loss: 1.4697 - val_accuracy: 0.8068 - 2s/epoch - 3ms/step\n",
      "Epoch 27/30\n",
      "625/625 - 2s - loss: 0.0106 - accuracy: 0.9974 - val_loss: 1.5183 - val_accuracy: 0.8052 - 2s/epoch - 3ms/step\n",
      "Epoch 28/30\n",
      "625/625 - 2s - loss: 0.0113 - accuracy: 0.9967 - val_loss: 1.5926 - val_accuracy: 0.8068 - 2s/epoch - 3ms/step\n",
      "Epoch 29/30\n",
      "625/625 - 2s - loss: 0.0092 - accuracy: 0.9973 - val_loss: 1.6566 - val_accuracy: 0.8064 - 2s/epoch - 3ms/step\n",
      "Epoch 30/30\n",
      "625/625 - 2s - loss: 0.0070 - accuracy: 0.9984 - val_loss: 1.7617 - val_accuracy: 0.8065 - 2s/epoch - 3ms/step\n"
     ]
    }
   ],
   "source": [
    "history = model.fit(training_padded, training_labels, epochs=30, validation_data=(testing_padded, testing_labels), verbose=2)"
   ]
  },
  {
   "cell_type": "code",
   "execution_count": null,
   "id": "63cfc99c",
   "metadata": {},
   "outputs": [],
   "source": []
  },
  {
   "cell_type": "code",
   "execution_count": 149,
   "id": "26c0bd95",
   "metadata": {},
   "outputs": [],
   "source": [
    "def plot_graphs( history , string):\n",
    "    plt.plot(history.history[string])\n",
    "    plt.plot(history.history['val_'+string])\n",
    "    \n",
    "    plt.xlabel(\"Epochs\")\n",
    "    plt.ylabel(string)\n",
    "    plt.legend([string, 'val_'+string])\n",
    "    plt.show()   "
   ]
  },
  {
   "cell_type": "code",
   "execution_count": 150,
   "id": "fbc3d6a3",
   "metadata": {},
   "outputs": [
    {
     "data": {
      "image/png": "[encoded data removed]",
      "text/plain": [
       "<Figure size 640x480 with 1 Axes>"
      ]
     },
     "metadata": {},
     "output_type": "display_data"
    },
    {
     "data": {
      "image/png": "[encoded data removed]",
      "text/plain": [
       "<Figure size 640x480 with 1 Axes>"
      ]
     },
     "metadata": {},
     "output_type": "display_data"
    }
   ],
   "source": [
    "plot_graphs(history, \"accuracy\")\n",
    "plot_graphs(history, \"loss\")"
   ]
  },
  {
   "cell_type": "code",
   "execution_count": null,
   "id": "a8bcc785",
   "metadata": {},
   "outputs": [],
   "source": []
  }
 ],
 "metadata": {
  "kernelspec": {
   "display_name": "Python 3 (ipykernel)",
   "language": "python",
   "name": "python3"
  },
  "language_info": {
   "codemirror_mode": {
    "name": "ipython",
    "version": 3
   },
   "file_extension": ".py",
   "mimetype": "text/x-python",
   "name": "python",
   "nbconvert_exporter": "python",
   "pygments_lexer": "ipython3",
   "version": "3.9.13"
  }
 },
 "nbformat": 4,
 "nbformat_minor": 5
}
